{
  "cells": [
    {
      "cell_type": "markdown",
      "metadata": {
        "id": "9cyS6gjVxETQ"
      },
      "source": [
        "# Automated ML\n",
        "TODO: Import Dependencies. In the cell below, import all the dependencies that you will need to complete the project."
      ]
    },
    {
      "cell_type": "code",
      "execution_count": 1,
      "metadata": {
        "gather": {
          "logged": 1697876610639
        },
        "id": "M4gCpykHtAWN"
      },
      "outputs": [],
      "source": [
        "import logging\n",
        "import os\n",
        "import csv\n",
        "import joblib\n",
        "import numpy as np\n",
        "import pandas as pd\n",
        "import pkg_resources\n",
        "import azureml.core\n",
        "import pkg_resources\n",
        "import xgboost\n",
        "\n",
        "\n",
        "from matplotlib import pyplot as plt\n",
        "from sklearn import datasets\n",
        "from azureml.core.experiment import Experiment\n",
        "from azureml.core.workspace import Workspace\n",
        "from azureml.train.automl import AutoMLConfig\n",
        "from azureml.core.dataset import Dataset\n",
        "from azureml.data.dataset_factory import TabularDatasetFactory\n",
        "from azureml.core.compute import AmlCompute\n",
        "from azureml.core.compute import ComputeTarget\n",
        "from azureml.core.compute_target import ComputeTargetException\n",
        "from azureml.pipeline.steps import AutoMLStep\n",
        "from azureml.widgets import RunDetails\n",
        "from azureml.core.environment import Environment\n",
        "from azureml.core.model import InferenceConfig\n",
        "from azureml.core.webservice import AciWebservice, Webservice\n",
        "from azureml.core.model import Model, InferenceConfig\n"
      ]
    },
    {
      "cell_type": "markdown",
      "metadata": {
        "id": "qsY197u-tNjt"
      },
      "source": [
        "# Overview\n",
        "\n",
        "TODO: In this markdown cell, give an overview of the dataset you are using. Also mention the task you will be performing.\n",
        "\n",
        "TODO: Get data. In the cell below, write code to access the data you will be using in this project. Remember that the dataset needs to be external."
      ]
    },
    {
      "cell_type": "code",
      "execution_count": 2,
      "metadata": {
        "gather": {
          "logged": 1697876610970
        },
        "id": "LL1sqpyQtYS5",
        "outputId": "9443cfb5-296f-4ea8-82d6-d696a091e3dc"
      },
      "outputs": [
        {
          "name": "stdout",
          "output_type": "stream",
          "text": [
            "quick-starts-ws-243057\n",
            "aml-quickstarts-243057\n",
            "southcentralus\n",
            "61c5c3f0-6dc7-4ed9-a7f3-c704b20e3b30\n"
          ]
        }
      ],
      "source": [
        "ws = Workspace.from_config()\n",
        "print(ws.name, ws.resource_group, ws.location, ws.subscription_id, sep='\\n')\n"
      ]
    },
    {
      "cell_type": "code",
      "execution_count": 3,
      "metadata": {
        "gather": {
          "logged": 1697876611300
        },
        "id": "I7Ay5ycrtcgO",
        "outputId": "50980ef2-e5e0-4b42-9246-48f6605beeb8"
      },
      "outputs": [
        {
          "name": "stdout",
          "output_type": "stream",
          "text": [
            "Experiment(Name: AutoML_Heart-Failure-experiment,\n",
            "Workspace: quick-starts-ws-243057)\n"
          ]
        }
      ],
      "source": [
        "experiment_name = 'AutoML_Heart-Failure-experiment'\n",
        "\n",
        "experiment = Experiment(ws, experiment_name)\n",
        "print(experiment)\n"
      ]
    },
    {
      "cell_type": "code",
      "execution_count": 4,
      "metadata": {
        "gather": {
          "logged": 1697876611436
        },
        "id": "UaWa_B8nuEjN",
        "outputId": "455a4f3c-67ef-47a3-bb47-c0f37ef3edbe"
      },
      "outputs": [
        {
          "name": "stdout",
          "output_type": "stream",
          "text": [
            "Found existing cluster, use it.\n",
            "Succeeded\n",
            "AmlCompute wait for completion finished\n",
            "\n",
            "Minimum number of nodes requested have been provisioned\n"
          ]
        }
      ],
      "source": [
        "amlcompute_cluster_name = \"aml-compute1\"\n",
        "\n",
        "# Verify that cluster does not exist already\n",
        "try:\n",
        "    compute_target = ComputeTarget(workspace=ws, name=amlcompute_cluster_name)\n",
        "    print('Found existing cluster, use it.')\n",
        "except ComputeTargetException:\n",
        "    compute_config = AmlCompute.provisioning_configuration(\n",
        "        vm_size='Standard_DS3_v2',\n",
        "        min_nodes=1,\n",
        "        max_nodes=4\n",
        "    )\n",
        "    compute_target = ComputeTarget.create(\n",
        "        ws,\n",
        "        amlcompute_cluster_name,\n",
        "        compute_config\n",
        "    )\n",
        "\n",
        "compute_target.wait_for_completion(show_output=True)\n",
        "# For a more detailed view of current AmlCompute status, use get_status().\n"
      ]
    },
    {
      "cell_type": "markdown",
      "metadata": {
        "id": "H9QnLjTixETW"
      },
      "source": [
        "## Dataset\n",
        "\n",
        "### Overview\n",
        "TODO: In this markdown cell, give an overview of the dataset you are using. Also mention the task you will be performing.\n",
        "\n",
        "\n",
        "TODO: Get data. In the cell below, write code to access the data you will be using in this project. Remember that the dataset needs to be external."
      ]
    },
    {
      "cell_type": "code",
      "execution_count": 5,
      "metadata": {
        "gather": {
          "logged": 1697876613872
        },
        "id": "eLYXelcWxTVn",
        "outputId": "eb60681a-dae4-4c87-afa3-212ef23ead8d"
      },
      "outputs": [],
      "source": [
        "found = False\n",
        "key = \"Heart-Failure\"\n",
        "description_text = \"Heart Failure data set\"\n",
        "\n",
        "if key in ws.datasets.keys():\n",
        "    found = True\n",
        "    dataset = ws.datasets[key]\n",
        "\n",
        "if not found:\n",
        "    # Create AML Dataset and register it into Workspace\n",
        "    example_data = 'https://archive.ics.uci.edu/ml/machine-learning-databases/00519/heart_failure_clinical_records_dataset.csv'\n",
        "    dataset = Dataset.Tabular.from_delimited_files(example_data)\n",
        "    # Register Dataset in Workspace\n",
        "    dataset = dataset.register(workspace=ws,\n",
        "                               name=key,\n",
        "                               description=description_text)\n",
        "\n",
        "df = dataset.to_pandas_dataframe()\n"
      ]
    },
    {
      "cell_type": "markdown",
      "metadata": {
        "id": "xPvodPCSxETX"
      },
      "source": [
        "## AutoML Configuration\n",
        "\n",
        "TODO: Explain why you chose the automl settings and cofiguration you used below."
      ]
    },
    {
      "cell_type": "code",
      "execution_count": 6,
      "metadata": {
        "gather": {
          "logged": 1697876613995
        },
        "id": "-mgIP10FxETX",
        "jupyter": {
          "outputs_hidden": false,
          "source_hidden": false
        },
        "nteract": {
          "transient": {
            "deleting": false
          }
        }
      },
      "outputs": [],
      "source": [
        "automl_settings = {\n",
        "    \"n_cross_validations\": 2,\n",
        "    \"primary_metric\": 'accuracy',\n",
        "    \"enable_early_stopping\": True,\n",
        "    \"max_concurrent_iterations\": 4,\n",
        "    \"experiment_timeout_minutes\": 20,\n",
        "    \"verbosity\": logging.INFO\n",
        "}\n",
        "\n",
        "automl_config = AutoMLConfig(\n",
        "    compute_target=compute_target,\n",
        "    task='classification',\n",
        "    training_data=dataset,\n",
        "    label_column_name='DEATH_EVENT',\n",
        "    featurization='auto',\n",
        "    debug_log=\"automl_errors.log\",\n",
        "    enable_onnx_compatible_models=False,\n",
        "    **automl_settings\n",
        ")\n"
      ]
    },
    {
      "cell_type": "code",
      "execution_count": 7,
      "metadata": {
        "gather": {
          "logged": 1697877115704
        },
        "id": "dwODMBtUxETX",
        "jupyter": {
          "outputs_hidden": false,
          "source_hidden": false
        },
        "nteract": {
          "transient": {
            "deleting": false
          }
        },
        "outputId": "79db35b7-14cd-4e45-fa1e-57ae309bf123"
      },
      "outputs": [
        {
          "name": "stdout",
          "output_type": "stream",
          "text": [
            "Submitting remote run.\n",
            "No run_configuration provided, running on aml-compute1 with default configuration\n",
            "Running on remote compute: aml-compute1\n"
          ]
        },
        {
          "data": {
            "text/html": [
              "<table style=\"width:100%\"><tr><th>Experiment</th><th>Id</th><th>Type</th><th>Status</th><th>Details Page</th><th>Docs Page</th></tr><tr><td>AutoML_Heart-Failure-experiment</td><td>AutoML_6d8521ce-219d-40b5-a0b8-88593c3c2c65</td><td>automl</td><td>NotStarted</td><td><a href=\"https://ml.azure.com/runs/AutoML_6d8521ce-219d-40b5-a0b8-88593c3c2c65?wsid=/subscriptions/61c5c3f0-6dc7-4ed9-a7f3-c704b20e3b30/resourcegroups/aml-quickstarts-243057/workspaces/quick-starts-ws-243057&amp;tid=660b3398-b80e-49d2-bc5b-ac1dc93b5254\" target=\"_blank\" rel=\"noopener\">Link to Azure Machine Learning studio</a></td><td><a href=\"https://docs.microsoft.com/en-us/python/api/overview/azure/ml/intro?view=azure-ml-py\" target=\"_blank\" rel=\"noopener\">Link to Documentation</a></td></tr></table>"
            ]
          },
          "metadata": {},
          "output_type": "display_data"
        },
        {
          "name": "stdout",
          "output_type": "stream",
          "text": [
            "\n",
            "Current status: FeaturesGeneration. Generating features for the dataset.\n",
            "Current status: ModelSelection. Beginning model selection.\n",
            "\n",
            "********************************************************************************************\n",
            "DATA GUARDRAILS: \n",
            "\n",
            "TYPE:         Class balancing detection\n",
            "STATUS:       PASSED\n",
            "DESCRIPTION:  Your inputs were analyzed, and all classes are balanced in your training data.\n",
            "              Learn more about imbalanced data: https://aka.ms/AutomatedMLImbalancedData\n",
            "\n",
            "********************************************************************************************\n",
            "\n",
            "TYPE:         Missing feature values imputation\n",
            "STATUS:       PASSED\n",
            "DESCRIPTION:  No feature missing values were detected in the training data.\n",
            "              Learn more about missing value imputation: https://aka.ms/AutomatedMLFeaturization\n",
            "\n",
            "********************************************************************************************\n",
            "\n",
            "TYPE:         High cardinality feature detection\n",
            "STATUS:       PASSED\n",
            "DESCRIPTION:  Your inputs were analyzed, and no high cardinality features were detected.\n",
            "              Learn more about high cardinality feature handling: https://aka.ms/AutomatedMLFeaturization\n",
            "\n",
            "********************************************************************************************\n",
            "\n",
            "********************************************************************************************\n",
            "ITER: The iteration being evaluated.\n",
            "PIPELINE: A summary description of the pipeline being evaluated.\n",
            "DURATION: Time taken for the current iteration.\n",
            "METRIC: The result of computing score on the fitted pipeline.\n",
            "BEST: The best observed score thus far.\n",
            "********************************************************************************************\n",
            "\n",
            " ITER   PIPELINE                                       DURATION            METRIC      BEST\n",
            "    0   MaxAbsScaler LightGBM                          0:00:12             0.8094    0.8094\n",
            "    1   MaxAbsScaler XGBoostClassifier                 0:00:10             0.8160    0.8160\n",
            "    2   MaxAbsScaler ExtremeRandomTrees                0:00:11             0.8260    0.8260\n",
            "    5   MaxAbsScaler LightGBM                          0:00:12             0.8395    0.8395\n",
            "    3   SparseNormalizer XGBoostClassifier             0:00:10             0.7693    0.8395\n",
            "    4   StandardScalerWrapper KNN                      0:00:10             0.6388    0.8395\n",
            "    6   RobustScaler LogisticRegression                0:00:10             0.7691    0.8395\n",
            "    7   MaxAbsScaler LightGBM                          0:00:10             0.8160    0.8395\n",
            "   10   StandardScalerWrapper XGBoostClassifier        0:00:14             0.7960    0.8395\n",
            "   11   MinMaxScaler RandomForest                      0:00:12             0.8360    0.8395\n",
            "    8   StandardScalerWrapper KNN                      0:00:10             0.6421    0.8395\n",
            "    9   StandardScalerWrapper SVM                      0:00:10             0.6956    0.8395\n",
            "   12   StandardScalerWrapper LogisticRegression       0:00:11             0.7625    0.8395\n",
            "   13   StandardScalerWrapper KNN                      0:00:11             0.7023    0.8395\n",
            "   14   RobustScaler KNN                               0:00:11             0.7057    0.8395\n",
            "   15   MinMaxScaler KNN                               0:00:12             0.6991    0.8395\n",
            "   16   SparseNormalizer KNN                           0:00:10             0.7391    0.8395\n",
            "   17   MaxAbsScaler LogisticRegression                0:00:10             0.8160    0.8395\n",
            "   18   StandardScalerWrapper XGBoostClassifier        0:00:10             0.8294    0.8395\n",
            "   19   StandardScalerWrapper XGBoostClassifier        0:00:10             0.8294    0.8395\n",
            "   20   MaxAbsScaler LogisticRegression                0:00:27             0.7892    0.8395\n",
            "   21   StandardScalerWrapper XGBoostClassifier        0:00:27             0.8562    0.8562\n",
            "   23   StandardScalerWrapper RandomForest             0:00:27             0.7960    0.8562\n",
            "   24   StandardScalerWrapper XGBoostClassifier        0:00:27             0.8261    0.8562\n",
            "   22   SparseNormalizer RandomForest                  0:00:28             0.7893    0.8562\n",
            "   25   StandardScalerWrapper XGBoostClassifier        0:00:30             0.8094    0.8562\n",
            "   26   RobustScaler RandomForest                      0:00:27             0.8394    0.8562\n",
            "   27   RobustScaler LightGBM                          0:00:27             0.8194    0.8562\n",
            "   28   MinMaxScaler LightGBM                          0:00:27             0.8462    0.8562\n",
            "   29   MinMaxScaler RandomForest                      0:00:30             0.8360    0.8562\n",
            "   30   TruncatedSVDWrapper XGBoostClassifier          0:00:27             0.6789    0.8562\n",
            "   31   MinMaxScaler LightGBM                          0:00:27             0.8060    0.8562\n",
            "   32   MaxAbsScaler LightGBM                          0:00:27             0.8428    0.8562\n",
            "   33   SparseNormalizer XGBoostClassifier             0:00:30             0.8060    0.8562\n",
            "   34   StandardScalerWrapper XGBoostClassifier        0:00:27             0.8160    0.8562\n",
            "   35   TruncatedSVDWrapper XGBoostClassifier          0:00:31             0.6789    0.8562\n",
            "   36   StandardScalerWrapper XGBoostClassifier        0:00:27             0.8228    0.8562\n",
            "   37   MinMaxScaler LightGBM                          0:00:26             0.8260    0.8562\n",
            "   38    VotingEnsemble                                0:00:44             0.8662    0.8662\n",
            "   39    StackEnsemble                                 0:00:50             0.8227    0.8662\n"
          ]
        },
        {
          "data": {
            "text/plain": [
              "{'runId': 'AutoML_6d8521ce-219d-40b5-a0b8-88593c3c2c65',\n",
              " 'target': 'aml-compute1',\n",
              " 'status': 'Completed',\n",
              " 'startTimeUtc': '2023-10-21T08:24:04.384815Z',\n",
              " 'endTimeUtc': '2023-10-21T08:31:31.588441Z',\n",
              " 'services': {},\n",
              " 'warnings': [{'source': 'JasmineService',\n",
              "   'message': 'No scores improved over last 10 iterations, so experiment stopped early. This early stopping behavior can be disabled by setting enable_early_stopping = False in AutoMLConfig for notebook/python SDK runs.'}],\n",
              " 'properties': {'num_iterations': '1000',\n",
              "  'training_type': 'TrainFull',\n",
              "  'acquisition_function': 'EI',\n",
              "  'primary_metric': 'accuracy',\n",
              "  'train_split': '0',\n",
              "  'acquisition_parameter': '0',\n",
              "  'num_cross_validation': '2',\n",
              "  'target': 'aml-compute1',\n",
              "  'AMLSettingsJsonString': '{\"path\":null,\"name\":\"AutoML_Heart-Failure-experiment\",\"subscription_id\":\"61c5c3f0-6dc7-4ed9-a7f3-c704b20e3b30\",\"resource_group\":\"aml-quickstarts-243057\",\"workspace_name\":\"quick-starts-ws-243057\",\"region\":\"southcentralus\",\"compute_target\":\"aml-compute1\",\"spark_service\":null,\"azure_service\":\"remote\",\"many_models\":false,\"pipeline_fetch_max_batch_size\":1,\"enable_batch_run\":true,\"enable_parallel_run\":false,\"num_procs\":null,\"enable_run_restructure\":false,\"start_auxiliary_runs_before_parent_complete\":false,\"enable_code_generation\":true,\"iterations\":1000,\"primary_metric\":\"accuracy\",\"task_type\":\"classification\",\"positive_label\":null,\"data_script\":null,\"test_size\":0.0,\"test_include_predictions_only\":false,\"validation_size\":0.0,\"n_cross_validations\":2,\"y_min\":null,\"y_max\":null,\"num_classes\":null,\"featurization\":\"auto\",\"_ignore_package_version_incompatibilities\":false,\"is_timeseries\":false,\"max_cores_per_iteration\":1,\"max_concurrent_iterations\":4,\"iteration_timeout_minutes\":null,\"mem_in_mb\":null,\"enforce_time_on_windows\":false,\"experiment_timeout_minutes\":20,\"experiment_exit_score\":null,\"partition_column_names\":null,\"whitelist_models\":null,\"blacklist_algos\":[\"TensorFlowLinearClassifier\",\"TensorFlowDNN\"],\"supported_models\":[\"TabnetClassifier\",\"SVM\",\"LinearSVM\",\"DecisionTree\",\"LightGBM\",\"AveragedPerceptronClassifier\",\"TensorFlowDNN\",\"TensorFlowLinearClassifier\",\"RandomForest\",\"SGD\",\"BernoulliNaiveBayes\",\"ExtremeRandomTrees\",\"MultinomialNaiveBayes\",\"KNN\",\"LogisticRegression\",\"XGBoostClassifier\",\"GradientBoosting\"],\"private_models\":[],\"auto_blacklist\":true,\"blacklist_samples_reached\":false,\"exclude_nan_labels\":true,\"verbosity\":20,\"_debug_log\":\"azureml_automl.log\",\"show_warnings\":false,\"model_explainability\":true,\"service_url\":null,\"sdk_url\":null,\"sdk_packages\":null,\"enable_onnx_compatible_models\":false,\"enable_split_onnx_featurizer_estimator_models\":false,\"vm_type\":\"STANDARD_DS3_V2\",\"telemetry_verbosity\":20,\"send_telemetry\":true,\"enable_dnn\":false,\"scenario\":\"AutoML\",\"environment_label\":null,\"save_mlflow\":false,\"enable_categorical_indicators\":false,\"force_text_dnn\":false,\"enable_feature_sweeping\":true,\"enable_early_stopping\":true,\"early_stopping_n_iters\":10,\"arguments\":null,\"dataset_id\":\"5a1f28ff-a401-4d8d-9a4e-330feb75972c\",\"hyperdrive_config\":null,\"validation_dataset_id\":null,\"run_source\":null,\"metrics\":null,\"enable_metric_confidence\":false,\"enable_ensembling\":true,\"enable_stack_ensembling\":true,\"ensemble_iterations\":15,\"enable_tf\":false,\"enable_subsampling\":null,\"subsample_seed\":null,\"enable_nimbusml\":false,\"enable_streaming\":false,\"force_streaming\":false,\"track_child_runs\":true,\"n_best_runs\":1,\"allowed_private_models\":[],\"label_column_name\":\"DEATH_EVENT\",\"weight_column_name\":null,\"cv_split_column_names\":null,\"enable_local_managed\":false,\"_local_managed_run_id\":null,\"cost_mode\":1,\"lag_length\":0,\"metric_operation\":\"maximize\",\"preprocess\":true}',\n",
              "  'DataPrepJsonString': '{\\\\\"training_data\\\\\": {\\\\\"datasetId\\\\\": \\\\\"5a1f28ff-a401-4d8d-9a4e-330feb75972c\\\\\"}, \\\\\"datasets\\\\\": 0}',\n",
              "  'EnableSubsampling': None,\n",
              "  'runTemplate': 'AutoML',\n",
              "  'azureml.runsource': 'automl',\n",
              "  'display_task_type': 'classification',\n",
              "  'dependencies_versions': '{\"azureml-dataprep-native\": \"38.0.0\", \"azureml-dataprep\": \"4.10.8\", \"azureml-dataprep-rslex\": \"2.17.12\", \"azureml-train-automl-runtime\": \"1.51.0.post2\", \"azureml-train-automl-client\": \"1.51.0.post1\", \"azureml-training-tabular\": \"1.51.0.post1\", \"azureml-automl-runtime\": \"1.51.0.post1\", \"azureml-automl-core\": \"1.51.0.post1\", \"azureml-mlflow\": \"1.51.0\", \"azureml-datadrift\": \"1.51.0\", \"azureml-pipeline\": \"1.51.0\", \"azureml-contrib-dataset\": \"1.51.0\", \"azureml-contrib-notebook\": \"1.51.0\", \"azureml-accel-models\": \"1.51.0\", \"azureml-automl-dnn-nlp\": \"1.51.0\", \"azureml-pipeline-core\": \"1.51.0\", \"azureml-responsibleai\": \"1.51.0\", \"azureml-contrib-automl-pipeline-steps\": \"1.51.0\", \"azureml-pipeline-steps\": \"1.51.0\", \"azureml-core\": \"1.51.0\", \"azureml-contrib-reinforcementlearning\": \"1.51.0\", \"azureml-contrib-server\": \"1.51.0\", \"azureml-opendatasets\": \"1.51.0\", \"azureml-contrib-services\": \"1.51.0\", \"azureml-telemetry\": \"1.51.0\", \"azureml-train-restclients-hyperdrive\": \"1.51.0\", \"azureml-interpret\": \"1.51.0\", \"azureml-train-core\": \"1.51.0\", \"azureml-tensorboard\": \"1.51.0\", \"azureml-train\": \"1.51.0\", \"azureml-contrib-pipeline-steps\": \"1.51.0\", \"azureml-explain-model\": \"1.51.0\", \"azureml-cli-common\": \"1.51.0\", \"azureml-widgets\": \"1.51.0\", \"azureml-train-automl\": \"1.51.0\", \"azureml-defaults\": \"1.51.0\", \"azureml-contrib-fairness\": \"1.51.0\", \"azureml-sdk\": \"1.51.0\", \"azureml-dataset-runtime\": \"1.51.0\", \"azureml-inference-server-http\": \"0.8.4\"}',\n",
              "  '_aml_system_scenario_identification': 'Remote.Parent',\n",
              "  'ClientType': 'SDK',\n",
              "  'PlatformVersion': 'DPV1',\n",
              "  'environment_cpu_name': 'AzureML-AutoML',\n",
              "  'environment_cpu_label': 'prod',\n",
              "  'environment_gpu_name': 'AzureML-AutoML-GPU',\n",
              "  'environment_gpu_label': 'prod',\n",
              "  'root_attribution': 'automl',\n",
              "  'attribution': 'AutoML',\n",
              "  'Orchestrator': 'AutoML',\n",
              "  'CancelUri': 'https://southcentralus.api.azureml.ms/jasmine/v1.0/subscriptions/61c5c3f0-6dc7-4ed9-a7f3-c704b20e3b30/resourceGroups/aml-quickstarts-243057/providers/Microsoft.MachineLearningServices/workspaces/quick-starts-ws-243057/experimentids/30a739e8-eca8-4777-a9a6-1d0701366330/cancel/AutoML_6d8521ce-219d-40b5-a0b8-88593c3c2c65',\n",
              "  'ClientSdkVersion': None,\n",
              "  'snapshotId': '00000000-0000-0000-0000-000000000000',\n",
              "  'SetupRunId': 'AutoML_6d8521ce-219d-40b5-a0b8-88593c3c2c65_setup',\n",
              "  'SetupRunContainerId': 'dcid.AutoML_6d8521ce-219d-40b5-a0b8-88593c3c2c65_setup',\n",
              "  'FeaturizationRunJsonPath': 'featurizer_container.json',\n",
              "  'FeaturizationRunId': 'AutoML_6d8521ce-219d-40b5-a0b8-88593c3c2c65_featurize',\n",
              "  'ProblemInfoJsonString': '{\"dataset_num_categorical\": 0, \"is_sparse\": false, \"subsampling\": false, \"has_extra_col\": true, \"dataset_classes\": 2, \"dataset_features\": 12, \"dataset_samples\": 299, \"single_frequency_class_detected\": false}',\n",
              "  'ModelExplainRunId': 'AutoML_6d8521ce-219d-40b5-a0b8-88593c3c2c65_ModelExplain'},\n",
              " 'inputDatasets': [{'dataset': {'id': '5a1f28ff-a401-4d8d-9a4e-330feb75972c'}, 'consumptionDetails': {'type': 'RunInput', 'inputName': 'training_data', 'mechanism': 'Direct'}}],\n",
              " 'outputDatasets': [{'identifier': {'savedId': '277fe4a4-820e-4120-919f-58701d6a3a46'},\n",
              "   'outputType': 'RunOutput',\n",
              "   'outputDetails': {'outputName': 'full_training_dataset'},\n",
              "   'dataset': {\n",
              "     \"source\": [\n",
              "       \"('workspaceartifactstore', 'ExperimentRun/dcid.AutoML_6d8521ce-219d-40b5-a0b8-88593c3c2c65/outputs/featurization/data/full_training_dataset.df.parquet')\"\n",
              "     ],\n",
              "     \"definition\": [\n",
              "       \"GetDatastoreFiles\",\n",
              "       \"ReadParquetFile\",\n",
              "       \"DropColumns\"\n",
              "     ],\n",
              "     \"registration\": {\n",
              "       \"id\": \"277fe4a4-820e-4120-919f-58701d6a3a46\",\n",
              "       \"name\": null,\n",
              "       \"version\": null,\n",
              "       \"workspace\": \"Workspace.create(name='quick-starts-ws-243057', subscription_id='61c5c3f0-6dc7-4ed9-a7f3-c704b20e3b30', resource_group='aml-quickstarts-243057')\"\n",
              "     }\n",
              "   }}],\n",
              " 'logFiles': {},\n",
              " 'submittedBy': 'ODL_User 243057'}"
            ]
          },
          "execution_count": 7,
          "metadata": {},
          "output_type": "execute_result"
        }
      ],
      "source": [
        "# TODO: Submit your experiment\n",
        "automl_run = experiment.submit(automl_config, show_output=True)\n",
        "automl_run.wait_for_completion()\n"
      ]
    },
    {
      "cell_type": "markdown",
      "metadata": {
        "id": "9UPxVt3GxETX"
      },
      "source": [
        "## Run Details\n",
        "\n",
        "OPTIONAL: Write about the different models trained and their performance. Why do you think some models did better than others?\n",
        "\n",
        "In the cell below, we use the `RunDetails` widget to show the different experiments."
      ]
    },
    {
      "cell_type": "code",
      "execution_count": 8,
      "metadata": {
        "gather": {
          "logged": 1697877274988
        },
        "id": "a4Dhw2wmxETY",
        "jupyter": {
          "outputs_hidden": false,
          "source_hidden": false
        },
        "nteract": {
          "transient": {
            "deleting": false
          }
        }
      },
      "outputs": [
        {
          "data": {
            "application/vnd.jupyter.widget-view+json": {
              "model_id": "edc8e720ccf34d88b8bd3e0d7f507480",
              "version_major": 2,
              "version_minor": 0
            },
            "text/plain": [
              "_AutoMLWidget(widget_settings={'childWidgetDisplay': 'popup', 'send_telemetry': False, 'log_level': 'INFO', 's…"
            ]
          },
          "metadata": {},
          "output_type": "display_data"
        },
        {
          "data": {
            "application/aml.mini.widget.v1": "{\"status\": \"Completed\", \"workbench_run_details_uri\": \"https://ml.azure.com/runs/AutoML_6d8521ce-219d-40b5-a0b8-88593c3c2c65?wsid=/subscriptions/61c5c3f0-6dc7-4ed9-a7f3-c704b20e3b30/resourcegroups/aml-quickstarts-243057/workspaces/quick-starts-ws-243057&tid=660b3398-b80e-49d2-bc5b-ac1dc93b5254\", \"run_id\": \"AutoML_6d8521ce-219d-40b5-a0b8-88593c3c2c65\", \"run_properties\": {\"run_id\": \"AutoML_6d8521ce-219d-40b5-a0b8-88593c3c2c65\", \"created_utc\": \"2023-10-21T08:23:51.736824Z\", \"properties\": {\"num_iterations\": \"1000\", \"training_type\": \"TrainFull\", \"acquisition_function\": \"EI\", \"primary_metric\": \"accuracy\", \"train_split\": \"0\", \"acquisition_parameter\": \"0\", \"num_cross_validation\": \"2\", \"target\": \"aml-compute1\", \"AMLSettingsJsonString\": \"{\\\"path\\\":null,\\\"name\\\":\\\"AutoML_Heart-Failure-experiment\\\",\\\"subscription_id\\\":\\\"61c5c3f0-6dc7-4ed9-a7f3-c704b20e3b30\\\",\\\"resource_group\\\":\\\"aml-quickstarts-243057\\\",\\\"workspace_name\\\":\\\"quick-starts-ws-243057\\\",\\\"region\\\":\\\"southcentralus\\\",\\\"compute_target\\\":\\\"aml-compute1\\\",\\\"spark_service\\\":null,\\\"azure_service\\\":\\\"remote\\\",\\\"many_models\\\":false,\\\"pipeline_fetch_max_batch_size\\\":1,\\\"enable_batch_run\\\":true,\\\"enable_parallel_run\\\":false,\\\"num_procs\\\":null,\\\"enable_run_restructure\\\":false,\\\"start_auxiliary_runs_before_parent_complete\\\":false,\\\"enable_code_generation\\\":true,\\\"iterations\\\":1000,\\\"primary_metric\\\":\\\"accuracy\\\",\\\"task_type\\\":\\\"classification\\\",\\\"positive_label\\\":null,\\\"data_script\\\":null,\\\"test_size\\\":0.0,\\\"test_include_predictions_only\\\":false,\\\"validation_size\\\":0.0,\\\"n_cross_validations\\\":2,\\\"y_min\\\":null,\\\"y_max\\\":null,\\\"num_classes\\\":null,\\\"featurization\\\":\\\"auto\\\",\\\"_ignore_package_version_incompatibilities\\\":false,\\\"is_timeseries\\\":false,\\\"max_cores_per_iteration\\\":1,\\\"max_concurrent_iterations\\\":4,\\\"iteration_timeout_minutes\\\":null,\\\"mem_in_mb\\\":null,\\\"enforce_time_on_windows\\\":false,\\\"experiment_timeout_minutes\\\":20,\\\"experiment_exit_score\\\":null,\\\"partition_column_names\\\":null,\\\"whitelist_models\\\":null,\\\"blacklist_algos\\\":[\\\"TensorFlowLinearClassifier\\\",\\\"TensorFlowDNN\\\"],\\\"supported_models\\\":[\\\"TabnetClassifier\\\",\\\"SVM\\\",\\\"LinearSVM\\\",\\\"DecisionTree\\\",\\\"LightGBM\\\",\\\"AveragedPerceptronClassifier\\\",\\\"TensorFlowDNN\\\",\\\"TensorFlowLinearClassifier\\\",\\\"RandomForest\\\",\\\"SGD\\\",\\\"BernoulliNaiveBayes\\\",\\\"ExtremeRandomTrees\\\",\\\"MultinomialNaiveBayes\\\",\\\"KNN\\\",\\\"LogisticRegression\\\",\\\"XGBoostClassifier\\\",\\\"GradientBoosting\\\"],\\\"private_models\\\":[],\\\"auto_blacklist\\\":true,\\\"blacklist_samples_reached\\\":false,\\\"exclude_nan_labels\\\":true,\\\"verbosity\\\":20,\\\"_debug_log\\\":\\\"azureml_automl.log\\\",\\\"show_warnings\\\":false,\\\"model_explainability\\\":true,\\\"service_url\\\":null,\\\"sdk_url\\\":null,\\\"sdk_packages\\\":null,\\\"enable_onnx_compatible_models\\\":false,\\\"enable_split_onnx_featurizer_estimator_models\\\":false,\\\"vm_type\\\":\\\"STANDARD_DS3_V2\\\",\\\"telemetry_verbosity\\\":20,\\\"send_telemetry\\\":true,\\\"enable_dnn\\\":false,\\\"scenario\\\":\\\"AutoML\\\",\\\"environment_label\\\":null,\\\"save_mlflow\\\":false,\\\"enable_categorical_indicators\\\":false,\\\"force_text_dnn\\\":false,\\\"enable_feature_sweeping\\\":true,\\\"enable_early_stopping\\\":true,\\\"early_stopping_n_iters\\\":10,\\\"arguments\\\":null,\\\"dataset_id\\\":\\\"5a1f28ff-a401-4d8d-9a4e-330feb75972c\\\",\\\"hyperdrive_config\\\":null,\\\"validation_dataset_id\\\":null,\\\"run_source\\\":null,\\\"metrics\\\":null,\\\"enable_metric_confidence\\\":false,\\\"enable_ensembling\\\":true,\\\"enable_stack_ensembling\\\":true,\\\"ensemble_iterations\\\":15,\\\"enable_tf\\\":false,\\\"enable_subsampling\\\":null,\\\"subsample_seed\\\":null,\\\"enable_nimbusml\\\":false,\\\"enable_streaming\\\":false,\\\"force_streaming\\\":false,\\\"track_child_runs\\\":true,\\\"n_best_runs\\\":1,\\\"allowed_private_models\\\":[],\\\"label_column_name\\\":\\\"DEATH_EVENT\\\",\\\"weight_column_name\\\":null,\\\"cv_split_column_names\\\":null,\\\"enable_local_managed\\\":false,\\\"_local_managed_run_id\\\":null,\\\"cost_mode\\\":1,\\\"lag_length\\\":0,\\\"metric_operation\\\":\\\"maximize\\\",\\\"preprocess\\\":true}\", \"DataPrepJsonString\": \"{\\\\\\\"training_data\\\\\\\": {\\\\\\\"datasetId\\\\\\\": \\\\\\\"5a1f28ff-a401-4d8d-9a4e-330feb75972c\\\\\\\"}, \\\\\\\"datasets\\\\\\\": 0}\", \"EnableSubsampling\": null, \"runTemplate\": \"AutoML\", \"azureml.runsource\": \"automl\", \"display_task_type\": \"classification\", \"dependencies_versions\": \"{\\\"azureml-dataprep-native\\\": \\\"38.0.0\\\", \\\"azureml-dataprep\\\": \\\"4.10.8\\\", \\\"azureml-dataprep-rslex\\\": \\\"2.17.12\\\", \\\"azureml-train-automl-runtime\\\": \\\"1.51.0.post2\\\", \\\"azureml-train-automl-client\\\": \\\"1.51.0.post1\\\", \\\"azureml-training-tabular\\\": \\\"1.51.0.post1\\\", \\\"azureml-automl-runtime\\\": \\\"1.51.0.post1\\\", \\\"azureml-automl-core\\\": \\\"1.51.0.post1\\\", \\\"azureml-mlflow\\\": \\\"1.51.0\\\", \\\"azureml-datadrift\\\": \\\"1.51.0\\\", \\\"azureml-pipeline\\\": \\\"1.51.0\\\", \\\"azureml-contrib-dataset\\\": \\\"1.51.0\\\", \\\"azureml-contrib-notebook\\\": \\\"1.51.0\\\", \\\"azureml-accel-models\\\": \\\"1.51.0\\\", \\\"azureml-automl-dnn-nlp\\\": \\\"1.51.0\\\", \\\"azureml-pipeline-core\\\": \\\"1.51.0\\\", \\\"azureml-responsibleai\\\": \\\"1.51.0\\\", \\\"azureml-contrib-automl-pipeline-steps\\\": \\\"1.51.0\\\", \\\"azureml-pipeline-steps\\\": \\\"1.51.0\\\", \\\"azureml-core\\\": \\\"1.51.0\\\", \\\"azureml-contrib-reinforcementlearning\\\": \\\"1.51.0\\\", \\\"azureml-contrib-server\\\": \\\"1.51.0\\\", \\\"azureml-opendatasets\\\": \\\"1.51.0\\\", \\\"azureml-contrib-services\\\": \\\"1.51.0\\\", \\\"azureml-telemetry\\\": \\\"1.51.0\\\", \\\"azureml-train-restclients-hyperdrive\\\": \\\"1.51.0\\\", \\\"azureml-interpret\\\": \\\"1.51.0\\\", \\\"azureml-train-core\\\": \\\"1.51.0\\\", \\\"azureml-tensorboard\\\": \\\"1.51.0\\\", \\\"azureml-train\\\": \\\"1.51.0\\\", \\\"azureml-contrib-pipeline-steps\\\": \\\"1.51.0\\\", \\\"azureml-explain-model\\\": \\\"1.51.0\\\", \\\"azureml-cli-common\\\": \\\"1.51.0\\\", \\\"azureml-widgets\\\": \\\"1.51.0\\\", \\\"azureml-train-automl\\\": \\\"1.51.0\\\", \\\"azureml-defaults\\\": \\\"1.51.0\\\", \\\"azureml-contrib-fairness\\\": \\\"1.51.0\\\", \\\"azureml-sdk\\\": \\\"1.51.0\\\", \\\"azureml-dataset-runtime\\\": \\\"1.51.0\\\", \\\"azureml-inference-server-http\\\": \\\"0.8.4\\\"}\", \"_aml_system_scenario_identification\": \"Remote.Parent\", \"ClientType\": \"SDK\", \"PlatformVersion\": \"DPV1\", \"environment_cpu_name\": \"AzureML-AutoML\", \"environment_cpu_label\": \"prod\", \"environment_gpu_name\": \"AzureML-AutoML-GPU\", \"environment_gpu_label\": \"prod\", \"root_attribution\": \"automl\", \"attribution\": \"AutoML\", \"Orchestrator\": \"AutoML\", \"CancelUri\": \"https://southcentralus.api.azureml.ms/jasmine/v1.0/subscriptions/61c5c3f0-6dc7-4ed9-a7f3-c704b20e3b30/resourceGroups/aml-quickstarts-243057/providers/Microsoft.MachineLearningServices/workspaces/quick-starts-ws-243057/experimentids/30a739e8-eca8-4777-a9a6-1d0701366330/cancel/AutoML_6d8521ce-219d-40b5-a0b8-88593c3c2c65\", \"ClientSdkVersion\": null, \"snapshotId\": \"00000000-0000-0000-0000-000000000000\", \"SetupRunId\": \"AutoML_6d8521ce-219d-40b5-a0b8-88593c3c2c65_setup\", \"SetupRunContainerId\": \"dcid.AutoML_6d8521ce-219d-40b5-a0b8-88593c3c2c65_setup\", \"FeaturizationRunJsonPath\": \"featurizer_container.json\", \"FeaturizationRunId\": \"AutoML_6d8521ce-219d-40b5-a0b8-88593c3c2c65_featurize\", \"ProblemInfoJsonString\": \"{\\\"dataset_num_categorical\\\": 0, \\\"is_sparse\\\": false, \\\"subsampling\\\": false, \\\"has_extra_col\\\": true, \\\"dataset_classes\\\": 2, \\\"dataset_features\\\": 12, \\\"dataset_samples\\\": 299, \\\"single_frequency_class_detected\\\": false}\", \"ModelExplainRunId\": \"AutoML_6d8521ce-219d-40b5-a0b8-88593c3c2c65_ModelExplain\"}, \"tags\": {\"model_explain_run\": \"best_run\", \"_aml_system_automl_run_workspace_id\": \"a271d778-a7a9-4b8a-b029-408caf09300f\", \"_aml_system_azureml.automlComponent\": \"AutoML\", \"pipeline_id_000\": \"5dfac790c5c209f98a1da2dc1c7fb76f0397324f;3735210984ea10097d5c91905cf6300ac278cd89;294650ec23bc3d067a4972de7ceb12f6e97260fa;c7af0367625be6ac5c2fecbfc72ed444cb7a2111;2964988f7520e6167bfe42ba2c42ab4a75f8a68c;7b422e7b3f86902c2409d5b5d9ff0c84d5dacfee;08e13545f5f7e2df5ef6a66d4110cfd996b1a0e3;5304e705d6f401cb07f85bcf0ca59ac1f84dfcf5;799d2168db11fc19b9e1c6c1df62f8981ad39fe9;ca211529127bb19e1fc933b24b457a03beb5e48e;22bffc6cdfb453aa19b0792ec8a8b592bd44dc5b;5f21d4801ee2a6073890b89985177d37ef49c646;44b5d2d23120dfcf96a7dc6389a293d17a966b1b;3caa818370e5e0c328d6266c359019bd31681270;bc4e14e9481990f09b66c70640f3b1c528f584ac;628c2351f7c75d74ad3673f2d39af16d6976da2e;081b692de9e87424d86c2c1d0787b65e098fc386;589334a57221e0720a95cf217c065115a7b841d1;ce96746d6f86360fe360023f5ae43340d1986145;35b8e2db3c5f6e714072e1be9f0210fe48426975;da45f657e4591caadf1589a85a1f7b8932585595;3fd2e115482e0c7b92aa3297688aefb6c3aa6fb8;17f87d449bb43aaf3cdae4b7eb6dd6e7fbdaf343;dc68fbd594530b5d52812dd9b3ffa3d6d8ba625e;1dfdf370ba770047b14bfa59c40920815defcdab;e24d94003b8d24eba8593a7682c9854816aa5e90;3d9e37d91189f9df1d9c0f2e0cfed345c3a54197;83c8974d3c3077eb039f99670786892c05e08d80;f0ea9ff175d03a19ae03ebe2246a695c85b44396;6e9b2d490c9ec2590e664e6a8660bd908d516a14;809d104499205a4f6a3cd2fe690fd2411e09d318;b459e979244cccd9f7020a0cbea24d048911774b;d4a0230cdc4e757b3ecd2a2f364f8f0141fb5e8d;664e966ce723fe972f3a23a912154a68b05d3f1e;5514b33779751d8de84d44049fd977b392dfd7b2;9ae570c73d438d6be51957bfdf913b72e37df460;f83548739d03c0e19c575c2741f0c84f71c1927c;432261002288075b6ac23dd11f51ce91e5398d7c;__AutoML_Stack_Ensemble__;__AutoML_Ensemble__\", \"score_000\": \"0.8093512304250559;0.8394854586129754;0.7959507829977628;0.8160178970917226;0.7691498881431768;0.6990827740492169;0.835973154362416;0.8160178970917226;0.8260178970917226;0.7391275167785235;0.76248322147651;0.6421252796420581;0.7693064876957494;0.8160402684563759;0.7023489932885906;0.638814317673378;0.6955704697986578;0.8293959731543624;0.7056823266219239;0.8294183445190157;0.7892170022371365;0.8561744966442952;0.7959731543624161;0.8260626398210291;0.7893288590604026;0.8093512304250559;0.846152125279642;0.8394183445190158;0.8193959731543624;0.8360402684563759;0.6789485458612976;0.8427740492170023;0.8060402684563759;0.805973154362416;0.815973154362416;0.8227516778523489;0.8260402684563759;0.6789485458612976;0.8226845637583893;0.866241610738255\", \"predicted_cost_000\": \"0;0.5;0.5;0;0.5;0.5;0.5;0.5;0.5;0.5;0.5;0.5;0.5;0.5;0.5;0.5;0.5;0.5;0.5;0.5;0.02964699366118736;0.005668698765808703;0.015156698092365143;0.02117393389204778;0.11851243090125621;0.022904575715181435;0.00882630687953192;0.008043789485068233;0.039880079057634917;0.08569354914244416;0.038256553294329504;0.009622217421086232;0.03655292295963906;0.4645706338949669;0.030232844554878992;0.273033328616689;0.03157303056792766;0.1283547957298191;0;0\", \"fit_time_000\": \"0.0165125;0.00897;0.009479999999999999;0.026255999999999998;0.010211;0.0039275000000000004;0.27559350000000005;0.0063835;0.147158;0.003534;0.0410485;0.003556;0.0082465;0.010305499999999999;0.006086;0.003484;0.007809;0.0080935;0.005868;0.008284;0.0173875;0.007945999999999998;0.05637349999999999;0.0125125;0.1643085;0.16635499999999998;0.008843;0.021648499999999998;0.019804000000000002;0.25160899999999997;0.0074459999999999995;0.0193935;0.0209085;0.021590500000000002;0.0078795;0.0156155;0.028721499999999997;0.023905999999999997;14;13\", \"training_percent_000\": \"100;100;100;100;100;100;100;100;100;100;100;100;100;100;100;100;100;100;100;100;100;100;100;100;100;100;100;100;100;100;100;100;100;100;100;100;100;100;100;100\", \"iteration_000\": \"0;5;10;1;6;15;11;7;2;16;12;8;3;17;13;4;9;18;14;19;20;21;23;24;22;25;28;26;27;29;30;32;31;33;34;36;37;35;39;38\", \"run_preprocessor_000\": \"MaxAbsScaler;MaxAbsScaler;StandardScalerWrapper;MaxAbsScaler;RobustScaler;MinMaxScaler;MinMaxScaler;MaxAbsScaler;MaxAbsScaler;SparseNormalizer;StandardScalerWrapper;StandardScalerWrapper;SparseNormalizer;MaxAbsScaler;StandardScalerWrapper;StandardScalerWrapper;StandardScalerWrapper;StandardScalerWrapper;RobustScaler;StandardScalerWrapper;MaxAbsScaler;StandardScalerWrapper;StandardScalerWrapper;StandardScalerWrapper;SparseNormalizer;StandardScalerWrapper;MinMaxScaler;RobustScaler;RobustScaler;MinMaxScaler;TruncatedSVDWrapper;MaxAbsScaler;MinMaxScaler;SparseNormalizer;StandardScalerWrapper;StandardScalerWrapper;MinMaxScaler;TruncatedSVDWrapper;;\", \"run_algorithm_000\": \"LightGBM;LightGBM;XGBoostClassifier;XGBoostClassifier;LogisticRegression;KNN;RandomForest;LightGBM;ExtremeRandomTrees;KNN;LogisticRegression;KNN;XGBoostClassifier;LogisticRegression;KNN;KNN;SVM;XGBoostClassifier;KNN;XGBoostClassifier;LogisticRegression;XGBoostClassifier;RandomForest;XGBoostClassifier;RandomForest;XGBoostClassifier;LightGBM;RandomForest;LightGBM;RandomForest;XGBoostClassifier;LightGBM;LightGBM;XGBoostClassifier;XGBoostClassifier;XGBoostClassifier;LightGBM;XGBoostClassifier;StackEnsemble;VotingEnsemble\", \"dynamic_allowlisting_iterations\": \"<25>;<30>;<35>;\", \"_aml_system_azureml.automl_early_exit_message\": \"No scores improved over last 10 iterations, so experiment stopped early. This early stopping behavior can be disabled by setting enable_early_stopping = False in AutoMLConfig for notebook/python SDK runs.\", \"automl_best_child_run_id\": \"AutoML_6d8521ce-219d-40b5-a0b8-88593c3c2c65_38\", \"model_explain_best_run_child_id\": \"AutoML_6d8521ce-219d-40b5-a0b8-88593c3c2c65_38\"}, \"end_time_utc\": \"2023-10-21T08:31:31.588441Z\", \"status\": \"Completed\", \"log_files\": {}, \"log_groups\": [], \"run_duration\": \"0:07:39\", \"run_number\": \"1697876631\", \"run_queued_details\": {\"status\": \"Completed\", \"details\": null}}, \"child_runs\": [{\"run_id\": \"AutoML_6d8521ce-219d-40b5-a0b8-88593c3c2c65_setup\", \"run_number\": 1697876643, \"metric\": null, \"status\": \"Completed\", \"run_type\": \"azureml.scriptrun\", \"training_percent\": null, \"start_time\": \"2023-10-21T08:24:14.661946Z\", \"end_time\": \"2023-10-21T08:24:42.551891Z\", \"created_time\": \"2023-10-21T08:24:03.497749Z\", \"created_time_dt\": \"2023-10-21T08:24:03.497749Z\", \"duration\": \"0:00:39\", \"iteration\": null, \"goal\": null, \"run_name\": \"Completed\", \"run_properties\": null}, {\"run_id\": \"AutoML_6d8521ce-219d-40b5-a0b8-88593c3c2c65_featurize\", \"run_number\": 1697876682, \"metric\": null, \"status\": \"Completed\", \"run_type\": \"automl.featurization\", \"training_percent\": null, \"start_time\": \"2023-10-21T08:24:43.122553Z\", \"end_time\": \"2023-10-21T08:25:26.078469Z\", \"created_time\": \"2023-10-21T08:24:42.877564Z\", \"created_time_dt\": \"2023-10-21T08:24:42.877564Z\", \"duration\": \"0:00:43\", \"iteration\": null, \"goal\": null, \"run_name\": \"Completed\", \"run_properties\": null}, {\"run_id\": \"AutoML_6d8521ce-219d-40b5-a0b8-88593c3c2c65_0\", \"run_number\": 1697876727, \"metric\": null, \"status\": \"Completed\", \"run_type\": null, \"training_percent\": \"100\", \"start_time\": \"2023-10-21T08:25:51.146903Z\", \"end_time\": \"2023-10-21T08:26:03.157732Z\", \"created_time\": \"2023-10-21T08:25:27.499267Z\", \"created_time_dt\": \"2023-10-21T08:25:27.499267Z\", \"duration\": \"0:00:35\", \"iteration\": \"0\", \"goal\": \"accuracy_max\", \"run_name\": \"MaxAbsScaler, LightGBM\", \"run_properties\": \"copy=True\", \"primary_metric\": 0.80935123, \"best_metric\": 0.80935123}, {\"run_id\": \"AutoML_6d8521ce-219d-40b5-a0b8-88593c3c2c65_2\", \"run_number\": 1697876728, \"metric\": null, \"status\": \"Completed\", \"run_type\": null, \"training_percent\": \"100\", \"start_time\": \"2023-10-21T08:26:14.655541Z\", \"end_time\": \"2023-10-21T08:26:25.261283Z\", \"created_time\": \"2023-10-21T08:25:28.515873Z\", \"created_time_dt\": \"2023-10-21T08:25:28.515873Z\", \"duration\": \"0:00:56\", \"iteration\": \"2\", \"goal\": \"accuracy_max\", \"run_name\": \"MaxAbsScaler, ExtremeRandomTrees\", \"run_properties\": \"copy=True\", \"primary_metric\": 0.8260179, \"best_metric\": 0.8260179}, {\"run_id\": \"AutoML_6d8521ce-219d-40b5-a0b8-88593c3c2c65_worker_0\", \"run_number\": 1697876729, \"metric\": null, \"status\": \"Completed\", \"run_type\": \"azureml.scriptrun\", \"training_percent\": null, \"start_time\": \"2023-10-21T08:25:42.883297Z\", \"end_time\": \"2023-10-21T08:26:55.665194Z\", \"created_time\": \"2023-10-21T08:25:29.729514Z\", \"created_time_dt\": \"2023-10-21T08:25:29.729514Z\", \"duration\": \"0:01:25\", \"iteration\": null, \"goal\": null, \"run_name\": \"Completed\", \"run_properties\": null}, {\"run_id\": \"AutoML_6d8521ce-219d-40b5-a0b8-88593c3c2c65_6\", \"run_number\": 1697876730, \"metric\": null, \"status\": \"Completed\", \"run_type\": null, \"training_percent\": \"100\", \"start_time\": \"2023-10-21T08:26:04.316928Z\", \"end_time\": \"2023-10-21T08:26:14.193564Z\", \"created_time\": \"2023-10-21T08:25:30.43328Z\", \"created_time_dt\": \"2023-10-21T08:25:30.43328Z\", \"duration\": \"0:00:43\", \"iteration\": \"6\", \"goal\": \"accuracy_max\", \"run_name\": \"RobustScaler, LogisticRegression\", \"run_properties\": \"copy=True, quantile_range=[10, 90], with_centering=True,\\n             with_scaling=True\", \"primary_metric\": 0.76914989, \"best_metric\": 0.8260179}, {\"run_id\": \"AutoML_6d8521ce-219d-40b5-a0b8-88593c3c2c65_8\", \"run_number\": 1697876731, \"metric\": null, \"status\": \"Completed\", \"run_type\": null, \"training_percent\": \"100\", \"start_time\": \"2023-10-21T08:26:26.024254Z\", \"end_time\": \"2023-10-21T08:26:35.793438Z\", \"created_time\": \"2023-10-21T08:25:31.351204Z\", \"created_time_dt\": \"2023-10-21T08:25:31.351204Z\", \"duration\": \"0:01:04\", \"iteration\": \"8\", \"goal\": \"accuracy_max\", \"run_name\": \"StandardScalerWrapper, KNN\", \"run_properties\": \"copy=True, with_mean=False, with_std=False\", \"primary_metric\": 0.64212528, \"best_metric\": 0.8260179}, {\"run_id\": \"AutoML_6d8521ce-219d-40b5-a0b8-88593c3c2c65_worker_1\", \"run_number\": 1697876732, \"metric\": null, \"status\": \"Completed\", \"run_type\": \"azureml.scriptrun\", \"training_percent\": null, \"start_time\": \"2023-10-21T08:25:43.311574Z\", \"end_time\": \"2023-10-21T08:26:55.487022Z\", \"created_time\": \"2023-10-21T08:25:32.19755Z\", \"created_time_dt\": \"2023-10-21T08:25:32.19755Z\", \"duration\": \"0:01:23\", \"iteration\": null, \"goal\": null, \"run_name\": \"Completed\", \"run_properties\": null}, {\"run_id\": \"AutoML_6d8521ce-219d-40b5-a0b8-88593c3c2c65_12\", \"run_number\": 1697876733, \"metric\": null, \"status\": \"Completed\", \"run_type\": null, \"training_percent\": \"100\", \"start_time\": \"2023-10-21T08:26:20.550993Z\", \"end_time\": \"2023-10-21T08:26:31.937225Z\", \"created_time\": \"2023-10-21T08:25:33.37047Z\", \"created_time_dt\": \"2023-10-21T08:25:33.37047Z\", \"duration\": \"0:00:58\", \"iteration\": \"12\", \"goal\": \"accuracy_max\", \"run_name\": \"StandardScalerWrapper, LogisticRegression\", \"run_properties\": \"copy=True, with_mean=True, with_std=False\", \"primary_metric\": 0.76248322, \"best_metric\": 0.8260179}, {\"run_id\": \"AutoML_6d8521ce-219d-40b5-a0b8-88593c3c2c65_worker_2\", \"run_number\": 1697876734, \"metric\": null, \"status\": \"Completed\", \"run_type\": \"azureml.scriptrun\", \"training_percent\": null, \"start_time\": \"2023-10-21T08:25:44.13427Z\", \"end_time\": \"2023-10-21T08:27:04.532586Z\", \"created_time\": \"2023-10-21T08:25:34.564435Z\", \"created_time_dt\": \"2023-10-21T08:25:34.564435Z\", \"duration\": \"0:01:29\", \"iteration\": null, \"goal\": null, \"run_name\": \"Completed\", \"run_properties\": null}, {\"run_id\": \"AutoML_6d8521ce-219d-40b5-a0b8-88593c3c2c65_16\", \"run_number\": 1697876735, \"metric\": null, \"status\": \"Completed\", \"run_type\": null, \"training_percent\": \"100\", \"start_time\": \"2023-10-21T08:26:17.058514Z\", \"end_time\": \"2023-10-21T08:26:27.106365Z\", \"created_time\": \"2023-10-21T08:25:35.231147Z\", \"created_time_dt\": \"2023-10-21T08:25:35.231147Z\", \"duration\": \"0:00:51\", \"iteration\": \"16\", \"goal\": \"accuracy_max\", \"run_name\": \"SparseNormalizer, KNN\", \"run_properties\": \"copy=True, norm='max'\", \"primary_metric\": 0.73912752, \"best_metric\": 0.8260179}, {\"run_id\": \"AutoML_6d8521ce-219d-40b5-a0b8-88593c3c2c65_worker_3\", \"run_number\": 1697876736, \"metric\": null, \"status\": \"Completed\", \"run_type\": \"azureml.scriptrun\", \"training_percent\": null, \"start_time\": \"2023-10-21T08:25:56.170204Z\", \"end_time\": \"2023-10-21T08:27:08.321753Z\", \"created_time\": \"2023-10-21T08:25:36.97151Z\", \"created_time_dt\": \"2023-10-21T08:25:36.97151Z\", \"duration\": \"0:01:31\", \"iteration\": null, \"goal\": null, \"run_name\": \"Completed\", \"run_properties\": null}, {\"run_id\": \"AutoML_6d8521ce-219d-40b5-a0b8-88593c3c2c65_20\", \"run_number\": 1697876818, \"metric\": null, \"status\": \"Completed\", \"run_type\": \"azureml.scriptrun\", \"training_percent\": \"100\", \"start_time\": \"2023-10-21T08:27:09.837538Z\", \"end_time\": \"2023-10-21T08:27:37.130286Z\", \"created_time\": \"2023-10-21T08:26:58.133298Z\", \"created_time_dt\": \"2023-10-21T08:26:58.133298Z\", \"duration\": \"0:00:38\", \"iteration\": \"20\", \"goal\": \"accuracy_max\", \"run_name\": \"MaxAbsScaler, LogisticRegression\", \"run_properties\": \"copy=True\", \"primary_metric\": 0.789217, \"best_metric\": 0.8260179}, {\"run_id\": \"AutoML_6d8521ce-219d-40b5-a0b8-88593c3c2c65_23\", \"run_number\": 1697876859, \"metric\": null, \"status\": \"Completed\", \"run_type\": \"azureml.scriptrun\", \"training_percent\": \"100\", \"start_time\": \"2023-10-21T08:27:52.75209Z\", \"end_time\": \"2023-10-21T08:28:19.443599Z\", \"created_time\": \"2023-10-21T08:27:39.340113Z\", \"created_time_dt\": \"2023-10-21T08:27:39.340113Z\", \"duration\": \"0:00:40\", \"iteration\": \"23\", \"goal\": \"accuracy_max\", \"run_name\": \"StandardScalerWrapper, RandomForest\", \"run_properties\": \"copy=True, with_mean=False, with_std=False\", \"primary_metric\": 0.79597315, \"best_metric\": 0.8260179}, {\"run_id\": \"AutoML_6d8521ce-219d-40b5-a0b8-88593c3c2c65_25\", \"run_number\": 1697876861, \"metric\": null, \"status\": \"Completed\", \"run_type\": \"azureml.scriptrun\", \"training_percent\": \"100\", \"start_time\": \"2023-10-21T08:27:53.084475Z\", \"end_time\": \"2023-10-21T08:28:23.29221Z\", \"created_time\": \"2023-10-21T08:27:41.988888Z\", \"created_time_dt\": \"2023-10-21T08:27:41.988888Z\", \"duration\": \"0:00:41\", \"iteration\": \"25\", \"goal\": \"accuracy_max\", \"run_name\": \"StandardScalerWrapper, XGBoostClassifier\", \"run_properties\": \"copy=True, with_mean=False, with_std=False\", \"primary_metric\": 0.80935123, \"best_metric\": 0.8260179}, {\"run_id\": \"AutoML_6d8521ce-219d-40b5-a0b8-88593c3c2c65_26\", \"run_number\": 1697876900, \"metric\": null, \"status\": \"Completed\", \"run_type\": \"azureml.scriptrun\", \"training_percent\": \"100\", \"start_time\": \"2023-10-21T08:28:34.465967Z\", \"end_time\": \"2023-10-21T08:29:01.443539Z\", \"created_time\": \"2023-10-21T08:28:20.786833Z\", \"created_time_dt\": \"2023-10-21T08:28:20.786833Z\", \"duration\": \"0:00:40\", \"iteration\": \"26\", \"goal\": \"accuracy_max\", \"run_name\": \"RobustScaler, RandomForest\", \"run_properties\": \"copy=True, quantile_range=[10, 90], with_centering=True,\\n             with_scaling=True\", \"primary_metric\": 0.83941834, \"best_metric\": 0.83941834}, {\"run_id\": \"AutoML_6d8521ce-219d-40b5-a0b8-88593c3c2c65_28\", \"run_number\": 1697876902, \"metric\": null, \"status\": \"Completed\", \"run_type\": \"azureml.scriptrun\", \"training_percent\": \"100\", \"start_time\": \"2023-10-21T08:28:34.385819Z\", \"end_time\": \"2023-10-21T08:29:01.10211Z\", \"created_time\": \"2023-10-21T08:28:22.890739Z\", \"created_time_dt\": \"2023-10-21T08:28:22.890739Z\", \"duration\": \"0:00:38\", \"iteration\": \"28\", \"goal\": \"accuracy_max\", \"run_name\": \"MinMaxScaler, LightGBM\", \"run_properties\": \"copy=True, feature_range=(0, 1\", \"primary_metric\": 0.84615213, \"best_metric\": 0.84615213}, {\"run_id\": \"AutoML_6d8521ce-219d-40b5-a0b8-88593c3c2c65_29\", \"run_number\": 1697876904, \"metric\": null, \"status\": \"Completed\", \"run_type\": \"azureml.scriptrun\", \"training_percent\": \"100\", \"start_time\": \"2023-10-21T08:28:35.357007Z\", \"end_time\": \"2023-10-21T08:29:05.419164Z\", \"created_time\": \"2023-10-21T08:28:24.891274Z\", \"created_time_dt\": \"2023-10-21T08:28:24.891274Z\", \"duration\": \"0:00:40\", \"iteration\": \"29\", \"goal\": \"accuracy_max\", \"run_name\": \"MinMaxScaler, RandomForest\", \"run_properties\": \"copy=True, feature_range=(0, 1\", \"primary_metric\": 0.83604027, \"best_metric\": 0.84615213}, {\"run_id\": \"AutoML_6d8521ce-219d-40b5-a0b8-88593c3c2c65_30\", \"run_number\": 1697876943, \"metric\": null, \"status\": \"Completed\", \"run_type\": \"azureml.scriptrun\", \"training_percent\": \"100\", \"start_time\": \"2023-10-21T08:29:12.869649Z\", \"end_time\": \"2023-10-21T08:29:39.63008Z\", \"created_time\": \"2023-10-21T08:29:03.024625Z\", \"created_time_dt\": \"2023-10-21T08:29:03.024625Z\", \"duration\": \"0:00:36\", \"iteration\": \"30\", \"goal\": \"accuracy_max\", \"run_name\": \"TruncatedSVDWrapper, XGBoostClassifier\", \"run_properties\": \"n_components=0.8510526315789474, random_state=None\", \"primary_metric\": 0.67894855, \"best_metric\": 0.84615213}, {\"run_id\": \"AutoML_6d8521ce-219d-40b5-a0b8-88593c3c2c65_32\", \"run_number\": 1697876945, \"metric\": null, \"status\": \"Completed\", \"run_type\": \"azureml.scriptrun\", \"training_percent\": \"100\", \"start_time\": \"2023-10-21T08:29:15.768955Z\", \"end_time\": \"2023-10-21T08:29:43.026416Z\", \"created_time\": \"2023-10-21T08:29:05.19818Z\", \"created_time_dt\": \"2023-10-21T08:29:05.19818Z\", \"duration\": \"0:00:37\", \"iteration\": \"32\", \"goal\": \"accuracy_max\", \"run_name\": \"MaxAbsScaler, LightGBM\", \"run_properties\": \"copy=True\", \"primary_metric\": 0.84277405, \"best_metric\": 0.84615213}, {\"run_id\": \"AutoML_6d8521ce-219d-40b5-a0b8-88593c3c2c65_33\", \"run_number\": 1697876947, \"metric\": null, \"status\": \"Completed\", \"run_type\": \"azureml.scriptrun\", \"training_percent\": \"100\", \"start_time\": \"2023-10-21T08:29:17.025174Z\", \"end_time\": \"2023-10-21T08:29:46.626745Z\", \"created_time\": \"2023-10-21T08:29:07.18615Z\", \"created_time_dt\": \"2023-10-21T08:29:07.18615Z\", \"duration\": \"0:00:39\", \"iteration\": \"33\", \"goal\": \"accuracy_max\", \"run_name\": \"SparseNormalizer, XGBoostClassifier\", \"run_properties\": \"copy=True, norm='l1'\", \"primary_metric\": 0.80597315, \"best_metric\": 0.84615213}, {\"run_id\": \"AutoML_6d8521ce-219d-40b5-a0b8-88593c3c2c65_34\", \"run_number\": 1697876980, \"metric\": null, \"status\": \"Completed\", \"run_type\": \"azureml.scriptrun\", \"training_percent\": \"100\", \"start_time\": \"2023-10-21T08:29:52.138248Z\", \"end_time\": \"2023-10-21T08:30:18.911967Z\", \"created_time\": \"2023-10-21T08:29:40.920278Z\", \"created_time_dt\": \"2023-10-21T08:29:40.920278Z\", \"duration\": \"0:00:37\", \"iteration\": \"34\", \"goal\": \"accuracy_max\", \"run_name\": \"StandardScalerWrapper, XGBoostClassifier\", \"run_properties\": \"copy=True, with_mean=False, with_std=False\", \"primary_metric\": 0.81597315, \"best_metric\": 0.84615213}, {\"run_id\": \"AutoML_6d8521ce-219d-40b5-a0b8-88593c3c2c65_35\", \"run_number\": 1697876985, \"metric\": null, \"status\": \"Completed\", \"run_type\": \"azureml.scriptrun\", \"training_percent\": \"100\", \"start_time\": \"2023-10-21T08:29:55.250502Z\", \"end_time\": \"2023-10-21T08:30:26.659508Z\", \"created_time\": \"2023-10-21T08:29:45.114112Z\", \"created_time_dt\": \"2023-10-21T08:29:45.114112Z\", \"duration\": \"0:00:41\", \"iteration\": \"35\", \"goal\": \"accuracy_max\", \"run_name\": \"TruncatedSVDWrapper, XGBoostClassifier\", \"run_properties\": \"n_components=0.05947368421052632, random_state=None\", \"primary_metric\": 0.67894855, \"best_metric\": 0.84615213}, {\"run_id\": \"AutoML_6d8521ce-219d-40b5-a0b8-88593c3c2c65_36\", \"run_number\": 1697876987, \"metric\": null, \"status\": \"Completed\", \"run_type\": \"azureml.scriptrun\", \"training_percent\": \"100\", \"start_time\": \"2023-10-21T08:29:56.163805Z\", \"end_time\": \"2023-10-21T08:30:22.688497Z\", \"created_time\": \"2023-10-21T08:29:47.118718Z\", \"created_time_dt\": \"2023-10-21T08:29:47.118718Z\", \"duration\": \"0:00:35\", \"iteration\": \"36\", \"goal\": \"accuracy_max\", \"run_name\": \"StandardScalerWrapper, XGBoostClassifier\", \"run_properties\": \"copy=True, with_mean=False, with_std=False\", \"primary_metric\": 0.82275168, \"best_metric\": 0.84615213}, {\"run_id\": \"AutoML_6d8521ce-219d-40b5-a0b8-88593c3c2c65_37\", \"run_number\": 1697876989, \"metric\": null, \"status\": \"Canceled\", \"run_type\": \"azureml.scriptrun\", \"training_percent\": \"100\", \"start_time\": \"2023-10-21T08:29:58.633013Z\", \"end_time\": \"2023-10-21T08:30:24.312528Z\", \"created_time\": \"2023-10-21T08:29:49.16658Z\", \"created_time_dt\": \"2023-10-21T08:29:49.16658Z\", \"duration\": \"0:00:35\", \"iteration\": \"37\", \"goal\": \"accuracy_max\", \"run_name\": \"MinMaxScaler, LightGBM\", \"run_properties\": \"copy=True, feature_range=(0, 1\", \"primary_metric\": 0.82604027, \"best_metric\": 0.84615213}, {\"run_id\": \"AutoML_6d8521ce-219d-40b5-a0b8-88593c3c2c65_39\", \"run_number\": 1697877027, \"metric\": null, \"status\": \"Completed\", \"run_type\": \"azureml.scriptrun\", \"training_percent\": \"100\", \"start_time\": \"2023-10-21T08:30:38.614223Z\", \"end_time\": \"2023-10-21T08:31:28.542824Z\", \"created_time\": \"2023-10-21T08:30:27.336731Z\", \"created_time_dt\": \"2023-10-21T08:30:27.336731Z\", \"duration\": \"0:01:01\", \"iteration\": \"39\", \"goal\": \"accuracy_max\", \"run_name\": \"StackEnsemble\", \"run_properties\": \"base_learners=[('21', Pipeline(memory=None, steps=[('standardscalerwrapper', StandardScalerWrapper(copy=True, with_mean=False, with_std=False\", \"primary_metric\": 0.82268456, \"best_metric\": 0.84615213}], \"children_metrics\": {\"categories\": [0], \"series\": {\"norm_macro_recall\": [{\"categories\": [\"0\", \"2\", \"6\", \"8\", \"12\", \"16\", \"20\", \"23\", \"25\", \"26\", \"28\", \"29\", \"30\", \"32\", \"33\", \"34\", \"35\", \"36\", \"37\", \"39\"], \"mode\": \"markers\", \"name\": \"norm_macro_recall\", \"stepped\": false, \"type\": \"scatter\", \"data\": [0.5123517281359564, 0.5973074083225032, 0.5575454955523393, 0.056266281528410844, 0.5638880157076523, 0.25930582892520815, 0.49918347368439697, 0.43673169710268767, 0.4961082178816334, 0.5945011878777211, 0.5932666515099826, 0.6235830333818801, 0.0, 0.6103930723332096, 0.5127518881999819, 0.48793176423718854, 0.0, 0.5329736065481596, 0.5580700154508823, 0.5718253174452843]}, {\"categories\": [\"0\", \"2\", \"6\", \"8\", \"12\", \"16\", \"20\", \"23\", \"25\", \"26\", \"28\", \"29\", \"30\", \"32\", \"33\", \"34\", \"35\", \"36\", \"37\", \"39\"], \"mode\": \"lines\", \"name\": \"norm_macro_recall_max\", \"stepped\": true, \"type\": \"scatter\", \"data\": [0.5123517281359564, 0.5973074083225032, 0.5973074083225032, 0.5973074083225032, 0.5973074083225032, 0.5973074083225032, 0.5973074083225032, 0.5973074083225032, 0.5973074083225032, 0.5973074083225032, 0.5973074083225032, 0.6235830333818801, 0.6235830333818801, 0.6235830333818801, 0.6235830333818801, 0.6235830333818801, 0.6235830333818801, 0.6235830333818801, 0.6235830333818801, 0.6235830333818801]}], \"log_loss\": [{\"categories\": [\"0\", \"2\", \"6\", \"8\", \"12\", \"16\", \"20\", \"23\", \"25\", \"26\", \"28\", \"29\", \"30\", \"32\", \"33\", \"34\", \"35\", \"36\", \"37\", \"39\"], \"mode\": \"markers\", \"name\": \"log_loss\", \"stepped\": false, \"type\": \"scatter\", \"data\": [0.5357571032208712, 0.531121833306408, 0.5396129106588348, 1.2614621486583366, 0.5440587288508201, 0.995985510545208, 0.48639201129989856, 0.45022462681054015, 0.5752919502755156, 0.39500805956320467, 0.4242016575739598, 0.4052411382173703, 0.6290186725755526, 0.3866681244367377, 0.49488199001127364, 0.5732193123673539, 0.6288685988276104, 0.5085894825870023, 0.42186486034171966, 0.45275720649883056]}, {\"categories\": [\"0\", \"2\", \"6\", \"8\", \"12\", \"16\", \"20\", \"23\", \"25\", \"26\", \"28\", \"29\", \"30\", \"32\", \"33\", \"34\", \"35\", \"36\", \"37\", \"39\"], \"mode\": \"lines\", \"name\": \"log_loss_min\", \"stepped\": true, \"type\": \"scatter\", \"data\": [0.5357571032208712, 0.531121833306408, 0.531121833306408, 0.531121833306408, 0.531121833306408, 0.531121833306408, 0.48639201129989856, 0.45022462681054015, 0.45022462681054015, 0.39500805956320467, 0.39500805956320467, 0.39500805956320467, 0.39500805956320467, 0.3866681244367377, 0.3866681244367377, 0.3866681244367377, 0.3866681244367377, 0.3866681244367377, 0.3866681244367377, 0.3866681244367377]}], \"recall_score_macro\": [{\"categories\": [\"0\", \"2\", \"6\", \"8\", \"12\", \"16\", \"20\", \"23\", \"25\", \"26\", \"28\", \"29\", \"30\", \"32\", \"33\", \"34\", \"35\", \"36\", \"37\", \"39\"], \"mode\": \"markers\", \"name\": \"recall_score_macro\", \"stepped\": false, \"type\": \"scatter\", \"data\": [0.7561758640679782, 0.7986537041612516, 0.7787727477761697, 0.5281331407642054, 0.7819440078538262, 0.6296529144626041, 0.7495917368421985, 0.7183658485513438, 0.7480541089408167, 0.7972505939388606, 0.7966333257549914, 0.8117915166909401, 0.5, 0.8051965361666048, 0.7563759440999909, 0.7439658821185943, 0.5, 0.7664868032740798, 0.7790350077254411, 0.7859126587226422]}, {\"categories\": [\"0\", \"2\", \"6\", \"8\", \"12\", \"16\", \"20\", \"23\", \"25\", \"26\", \"28\", \"29\", \"30\", \"32\", \"33\", \"34\", \"35\", \"36\", \"37\", \"39\"], \"mode\": \"lines\", \"name\": \"recall_score_macro_max\", \"stepped\": true, \"type\": \"scatter\", \"data\": [0.7561758640679782, 0.7986537041612516, 0.7986537041612516, 0.7986537041612516, 0.7986537041612516, 0.7986537041612516, 0.7986537041612516, 0.7986537041612516, 0.7986537041612516, 0.7986537041612516, 0.7986537041612516, 0.8117915166909401, 0.8117915166909401, 0.8117915166909401, 0.8117915166909401, 0.8117915166909401, 0.8117915166909401, 0.8117915166909401, 0.8117915166909401, 0.8117915166909401]}], \"accuracy\": [{\"categories\": [\"0\", \"2\", \"6\", \"8\", \"12\", \"16\", \"20\", \"23\", \"25\", \"26\", \"28\", \"29\", \"30\", \"32\", \"33\", \"34\", \"35\", \"36\", \"37\", \"39\"], \"mode\": \"markers\", \"name\": \"accuracy\", \"stepped\": false, \"type\": \"scatter\", \"data\": [0.8093512304250559, 0.8260178970917226, 0.7691498881431768, 0.6421252796420581, 0.76248322147651, 0.7391275167785235, 0.7892170022371365, 0.7959731543624161, 0.8093512304250559, 0.8394183445190158, 0.846152125279642, 0.8360402684563759, 0.6789485458612976, 0.8427740492170023, 0.805973154362416, 0.815973154362416, 0.6789485458612976, 0.8227516778523489, 0.8260402684563759, 0.8226845637583893]}, {\"categories\": [\"0\", \"2\", \"6\", \"8\", \"12\", \"16\", \"20\", \"23\", \"25\", \"26\", \"28\", \"29\", \"30\", \"32\", \"33\", \"34\", \"35\", \"36\", \"37\", \"39\"], \"mode\": \"lines\", \"name\": \"accuracy_max\", \"stepped\": true, \"type\": \"scatter\", \"data\": [0.8093512304250559, 0.8260178970917226, 0.8260178970917226, 0.8260178970917226, 0.8260178970917226, 0.8260178970917226, 0.8260178970917226, 0.8260178970917226, 0.8260178970917226, 0.8394183445190158, 0.846152125279642, 0.846152125279642, 0.846152125279642, 0.846152125279642, 0.846152125279642, 0.846152125279642, 0.846152125279642, 0.846152125279642, 0.846152125279642, 0.846152125279642]}], \"weighted_accuracy\": [{\"categories\": [\"0\", \"2\", \"6\", \"8\", \"12\", \"16\", \"20\", \"23\", \"25\", \"26\", \"28\", \"29\", \"30\", \"32\", \"33\", \"34\", \"35\", \"36\", \"37\", \"39\"], \"mode\": \"markers\", \"name\": \"weighted_accuracy\", \"stepped\": false, \"type\": \"scatter\", \"data\": [0.8506927560537553, 0.8474488198499561, 0.7620255722737176, 0.7302839559394343, 0.7477043520858064, 0.8237574321468317, 0.8201254533009847, 0.8560427856915588, 0.8569993753846594, 0.872190497096849, 0.8845569931331319, 0.8551462875903373, 0.8171689614505722, 0.8719904895799739, 0.844549997431252, 0.8717168043546237, 0.8171689614505722, 0.8665961469936909, 0.8625127466965415, 0.8515770521299073]}, {\"categories\": [\"0\", \"2\", \"6\", \"8\", \"12\", \"16\", \"20\", \"23\", \"25\", \"26\", \"28\", \"29\", \"30\", \"32\", \"33\", \"34\", \"35\", \"36\", \"37\", \"39\"], \"mode\": \"lines\", \"name\": \"weighted_accuracy_max\", \"stepped\": true, \"type\": \"scatter\", \"data\": [0.8506927560537553, 0.8506927560537553, 0.8506927560537553, 0.8506927560537553, 0.8506927560537553, 0.8506927560537553, 0.8506927560537553, 0.8560427856915588, 0.8569993753846594, 0.872190497096849, 0.8845569931331319, 0.8845569931331319, 0.8845569931331319, 0.8845569931331319, 0.8845569931331319, 0.8845569931331319, 0.8845569931331319, 0.8845569931331319, 0.8845569931331319, 0.8845569931331319]}], \"recall_score_weighted\": [{\"categories\": [\"0\", \"2\", \"6\", \"8\", \"12\", \"16\", \"20\", \"23\", \"25\", \"26\", \"28\", \"29\", \"30\", \"32\", \"33\", \"34\", \"35\", \"36\", \"37\", \"39\"], \"mode\": \"markers\", \"name\": \"recall_score_weighted\", \"stepped\": false, \"type\": \"scatter\", \"data\": [0.8093512304250559, 0.8260178970917226, 0.7691498881431768, 0.6421252796420581, 0.76248322147651, 0.7391275167785235, 0.7892170022371365, 0.7959731543624161, 0.8093512304250559, 0.8394183445190158, 0.846152125279642, 0.8360402684563759, 0.6789485458612976, 0.8427740492170023, 0.805973154362416, 0.815973154362416, 0.6789485458612976, 0.8227516778523489, 0.8260402684563759, 0.8226845637583893]}, {\"categories\": [\"0\", \"2\", \"6\", \"8\", \"12\", \"16\", \"20\", \"23\", \"25\", \"26\", \"28\", \"29\", \"30\", \"32\", \"33\", \"34\", \"35\", \"36\", \"37\", \"39\"], \"mode\": \"lines\", \"name\": \"recall_score_weighted_max\", \"stepped\": true, \"type\": \"scatter\", \"data\": [0.8093512304250559, 0.8260178970917226, 0.8260178970917226, 0.8260178970917226, 0.8260178970917226, 0.8260178970917226, 0.8260178970917226, 0.8260178970917226, 0.8260178970917226, 0.8394183445190158, 0.846152125279642, 0.846152125279642, 0.846152125279642, 0.846152125279642, 0.846152125279642, 0.846152125279642, 0.846152125279642, 0.846152125279642, 0.846152125279642, 0.846152125279642]}], \"recall_score_micro\": [{\"categories\": [\"0\", \"2\", \"6\", \"8\", \"12\", \"16\", \"20\", \"23\", \"25\", \"26\", \"28\", \"29\", \"30\", \"32\", \"33\", \"34\", \"35\", \"36\", \"37\", \"39\"], \"mode\": \"markers\", \"name\": \"recall_score_micro\", \"stepped\": false, \"type\": \"scatter\", \"data\": [0.8093512304250559, 0.8260178970917226, 0.7691498881431768, 0.6421252796420581, 0.76248322147651, 0.7391275167785235, 0.7892170022371365, 0.7959731543624161, 0.8093512304250559, 0.8394183445190158, 0.846152125279642, 0.8360402684563759, 0.6789485458612976, 0.8427740492170023, 0.805973154362416, 0.815973154362416, 0.6789485458612976, 0.8227516778523489, 0.8260402684563759, 0.8226845637583893]}, {\"categories\": [\"0\", \"2\", \"6\", \"8\", \"12\", \"16\", \"20\", \"23\", \"25\", \"26\", \"28\", \"29\", \"30\", \"32\", \"33\", \"34\", \"35\", \"36\", \"37\", \"39\"], \"mode\": \"lines\", \"name\": \"recall_score_micro_max\", \"stepped\": true, \"type\": \"scatter\", \"data\": [0.8093512304250559, 0.8260178970917226, 0.8260178970917226, 0.8260178970917226, 0.8260178970917226, 0.8260178970917226, 0.8260178970917226, 0.8260178970917226, 0.8260178970917226, 0.8394183445190158, 0.846152125279642, 0.846152125279642, 0.846152125279642, 0.846152125279642, 0.846152125279642, 0.846152125279642, 0.846152125279642, 0.846152125279642, 0.846152125279642, 0.846152125279642]}], \"average_precision_score_macro\": [{\"categories\": [\"0\", \"2\", \"6\", \"8\", \"12\", \"16\", \"20\", \"23\", \"25\", \"26\", \"28\", \"29\", \"30\", \"32\", \"33\", \"34\", \"35\", \"36\", \"37\", \"39\"], \"mode\": \"markers\", \"name\": \"average_precision_score_macro\", \"stepped\": false, \"type\": \"scatter\", \"data\": [0.8497704004643537, 0.8408875104068475, 0.8233240571660283, 0.5611862438579578, 0.8263125687683572, 0.6969059097809278, 0.8298389443145302, 0.8465861602954955, 0.8651592918631006, 0.877354305173911, 0.8575495597959003, 0.8883965285817097, 0.5, 0.879463409353096, 0.8462712376421228, 0.8760874354640793, 0.5014418387542733, 0.845191476740355, 0.8601329670937965, 0.8776263261152241]}, {\"categories\": [\"0\", \"2\", \"6\", \"8\", \"12\", \"16\", \"20\", \"23\", \"25\", \"26\", \"28\", \"29\", \"30\", \"32\", \"33\", \"34\", \"35\", \"36\", \"37\", \"39\"], \"mode\": \"lines\", \"name\": \"average_precision_score_macro_max\", \"stepped\": true, \"type\": \"scatter\", \"data\": [0.8497704004643537, 0.8497704004643537, 0.8497704004643537, 0.8497704004643537, 0.8497704004643537, 0.8497704004643537, 0.8497704004643537, 0.8497704004643537, 0.8651592918631006, 0.877354305173911, 0.877354305173911, 0.8883965285817097, 0.8883965285817097, 0.8883965285817097, 0.8883965285817097, 0.8883965285817097, 0.8883965285817097, 0.8883965285817097, 0.8883965285817097, 0.8883965285817097]}], \"matthews_correlation\": [{\"categories\": [\"0\", \"2\", \"6\", \"8\", \"12\", \"16\", \"20\", \"23\", \"25\", \"26\", \"28\", \"29\", \"30\", \"32\", \"33\", \"34\", \"35\", \"36\", \"37\", \"39\"], \"mode\": \"markers\", \"name\": \"matthews_correlation\", \"stepped\": false, \"type\": \"scatter\", \"data\": [0.5520222016179047, 0.608372199230528, 0.5314934343563918, 0.0702166786474018, 0.5318656618520297, 0.34261850152597506, 0.5182501066018845, 0.507968379910509, 0.5518533438825797, 0.6267801441671048, 0.637758159591123, 0.6378947683754768, 0.0, 0.6352182132812589, 0.5476070635126742, 0.5648775742806957, 0.0, 0.5891311136171781, 0.5920490686152873, 0.607273558399279]}, {\"categories\": [\"0\", \"2\", \"6\", \"8\", \"12\", \"16\", \"20\", \"23\", \"25\", \"26\", \"28\", \"29\", \"30\", \"32\", \"33\", \"34\", \"35\", \"36\", \"37\", \"39\"], \"mode\": \"lines\", \"name\": \"matthews_correlation_max\", \"stepped\": true, \"type\": \"scatter\", \"data\": [0.5520222016179047, 0.608372199230528, 0.608372199230528, 0.608372199230528, 0.608372199230528, 0.608372199230528, 0.608372199230528, 0.608372199230528, 0.608372199230528, 0.6267801441671048, 0.637758159591123, 0.6378947683754768, 0.6378947683754768, 0.6378947683754768, 0.6378947683754768, 0.6378947683754768, 0.6378947683754768, 0.6378947683754768, 0.6378947683754768, 0.6378947683754768]}], \"AUC_macro\": [{\"categories\": [\"0\", \"2\", \"6\", \"8\", \"12\", \"16\", \"20\", \"23\", \"25\", \"26\", \"28\", \"29\", \"30\", \"32\", \"33\", \"34\", \"35\", \"36\", \"37\", \"39\"], \"mode\": \"markers\", \"name\": \"AUC_macro\", \"stepped\": false, \"type\": \"scatter\", \"data\": [0.8694235857393305, 0.870633612619263, 0.8477216249887358, 0.5295690321631075, 0.84726220380716, 0.7032437053186559, 0.8493838445426622, 0.8607227070309902, 0.8866127660248848, 0.8911954185508204, 0.8808950902880638, 0.8951686214827199, 0.5, 0.8968793753018376, 0.8574270871188163, 0.8917062927972959, 0.5020250463783575, 0.8620777571614279, 0.8759715493528357, 0.8933885751477756]}, {\"categories\": [\"0\", \"2\", \"6\", \"8\", \"12\", \"16\", \"20\", \"23\", \"25\", \"26\", \"28\", \"29\", \"30\", \"32\", \"33\", \"34\", \"35\", \"36\", \"37\", \"39\"], \"mode\": \"lines\", \"name\": \"AUC_macro_max\", \"stepped\": true, \"type\": \"scatter\", \"data\": [0.8694235857393305, 0.870633612619263, 0.870633612619263, 0.870633612619263, 0.870633612619263, 0.870633612619263, 0.870633612619263, 0.870633612619263, 0.8866127660248848, 0.8911954185508204, 0.8911954185508204, 0.8951686214827199, 0.8951686214827199, 0.8968793753018376, 0.8968793753018376, 0.8968793753018376, 0.8968793753018376, 0.8968793753018376, 0.8968793753018376, 0.8968793753018376]}], \"average_precision_score_weighted\": [{\"categories\": [\"0\", \"2\", \"6\", \"8\", \"12\", \"16\", \"20\", \"23\", \"25\", \"26\", \"28\", \"29\", \"30\", \"32\", \"33\", \"34\", \"35\", \"36\", \"37\", \"39\"], \"mode\": \"markers\", \"name\": \"average_precision_score_weighted\", \"stepped\": false, \"type\": \"scatter\", \"data\": [0.879963293173214, 0.8716392651601577, 0.8578844353878096, 0.6152668480018023, 0.8585255609421916, 0.7378691813115592, 0.8618314989623015, 0.8704233819870579, 0.891831736097684, 0.8991071392691614, 0.8832474975985422, 0.9071395870392243, 0.5641082253552142, 0.9035266734646259, 0.8721596964694187, 0.9011146587544077, 0.565409168473621, 0.874178026366352, 0.8868272195182407, 0.9017767751176033]}, {\"categories\": [\"0\", \"2\", \"6\", \"8\", \"12\", \"16\", \"20\", \"23\", \"25\", \"26\", \"28\", \"29\", \"30\", \"32\", \"33\", \"34\", \"35\", \"36\", \"37\", \"39\"], \"mode\": \"lines\", \"name\": \"average_precision_score_weighted_max\", \"stepped\": true, \"type\": \"scatter\", \"data\": [0.879963293173214, 0.879963293173214, 0.879963293173214, 0.879963293173214, 0.879963293173214, 0.879963293173214, 0.879963293173214, 0.879963293173214, 0.891831736097684, 0.8991071392691614, 0.8991071392691614, 0.9071395870392243, 0.9071395870392243, 0.9071395870392243, 0.9071395870392243, 0.9071395870392243, 0.9071395870392243, 0.9071395870392243, 0.9071395870392243, 0.9071395870392243]}], \"AUC_weighted\": [{\"categories\": [\"0\", \"2\", \"6\", \"8\", \"12\", \"16\", \"20\", \"23\", \"25\", \"26\", \"28\", \"29\", \"30\", \"32\", \"33\", \"34\", \"35\", \"36\", \"37\", \"39\"], \"mode\": \"markers\", \"name\": \"AUC_weighted\", \"stepped\": false, \"type\": \"scatter\", \"data\": [0.8694235857393304, 0.8706336126192631, 0.8477216249887358, 0.5295690321631075, 0.84726220380716, 0.7032437053186558, 0.8493838445426622, 0.8607419564843056, 0.8866127660248848, 0.8911954185508204, 0.8808950902880638, 0.8951686214827199, 0.5, 0.8968793753018376, 0.8574270871188163, 0.8917062927972959, 0.5020250463783575, 0.8620777571614279, 0.8759715493528357, 0.8933885751477755]}, {\"categories\": [\"0\", \"2\", \"6\", \"8\", \"12\", \"16\", \"20\", \"23\", \"25\", \"26\", \"28\", \"29\", \"30\", \"32\", \"33\", \"34\", \"35\", \"36\", \"37\", \"39\"], \"mode\": \"lines\", \"name\": \"AUC_weighted_max\", \"stepped\": true, \"type\": \"scatter\", \"data\": [0.8694235857393304, 0.8706336126192631, 0.8706336126192631, 0.8706336126192631, 0.8706336126192631, 0.8706336126192631, 0.8706336126192631, 0.8706336126192631, 0.8866127660248848, 0.8911954185508204, 0.8911954185508204, 0.8951686214827199, 0.8951686214827199, 0.8968793753018376, 0.8968793753018376, 0.8968793753018376, 0.8968793753018376, 0.8968793753018376, 0.8968793753018376, 0.8968793753018376]}], \"f1_score_macro\": [{\"categories\": [\"0\", \"2\", \"6\", \"8\", \"12\", \"16\", \"20\", \"23\", \"25\", \"26\", \"28\", \"29\", \"30\", \"32\", \"33\", \"34\", \"35\", \"36\", \"37\", \"39\"], \"mode\": \"markers\", \"name\": \"f1_score_macro\", \"stepped\": false, \"type\": \"scatter\", \"data\": [0.7673589752759697, 0.799344904118642, 0.7528797268470349, 0.517077629923228, 0.7492720841417286, 0.6362123744539288, 0.7532093522381003, 0.7364403485565767, 0.7619502525824036, 0.8080491652925945, 0.8121064924182086, 0.8113206202840944, 0.4043824701195219, 0.8137679260243558, 0.7660884615885486, 0.7648469116894225, 0.4043824701195219, 0.778988318731748, 0.7907261117476398, 0.7894375101628988]}, {\"categories\": [\"0\", \"2\", \"6\", \"8\", \"12\", \"16\", \"20\", \"23\", \"25\", \"26\", \"28\", \"29\", \"30\", \"32\", \"33\", \"34\", \"35\", \"36\", \"37\", \"39\"], \"mode\": \"lines\", \"name\": \"f1_score_macro_max\", \"stepped\": true, \"type\": \"scatter\", \"data\": [0.7673589752759697, 0.799344904118642, 0.799344904118642, 0.799344904118642, 0.799344904118642, 0.799344904118642, 0.799344904118642, 0.799344904118642, 0.799344904118642, 0.8080491652925945, 0.8121064924182086, 0.8121064924182086, 0.8121064924182086, 0.8137679260243558, 0.8137679260243558, 0.8137679260243558, 0.8137679260243558, 0.8137679260243558, 0.8137679260243558, 0.8137679260243558]}], \"f1_score_weighted\": [{\"categories\": [\"0\", \"2\", \"6\", \"8\", \"12\", \"16\", \"20\", \"23\", \"25\", \"26\", \"28\", \"29\", \"30\", \"32\", \"33\", \"34\", \"35\", \"36\", \"37\", \"39\"], \"mode\": \"markers\", \"name\": \"f1_score_weighted\", \"stepped\": false, \"type\": \"scatter\", \"data\": [0.802383565695662, 0.8251567139451004, 0.7748479365634214, 0.6048360014913586, 0.7693558337605862, 0.7054012974014677, 0.7864472845286626, 0.7811783626509725, 0.7995268755517668, 0.8356837766177811, 0.8406293927513694, 0.8351858401093282, 0.5491321514835512, 0.8399487529427465, 0.8003131465590572, 0.8040905850948621, 0.5491321514835512, 0.813551677852349, 0.8214010081541478, 0.8183559945169292]}, {\"categories\": [\"0\", \"2\", \"6\", \"8\", \"12\", \"16\", \"20\", \"23\", \"25\", \"26\", \"28\", \"29\", \"30\", \"32\", \"33\", \"34\", \"35\", \"36\", \"37\", \"39\"], \"mode\": \"lines\", \"name\": \"f1_score_weighted_max\", \"stepped\": true, \"type\": \"scatter\", \"data\": [0.802383565695662, 0.8251567139451004, 0.8251567139451004, 0.8251567139451004, 0.8251567139451004, 0.8251567139451004, 0.8251567139451004, 0.8251567139451004, 0.8251567139451004, 0.8356837766177811, 0.8406293927513694, 0.8406293927513694, 0.8406293927513694, 0.8406293927513694, 0.8406293927513694, 0.8406293927513694, 0.8406293927513694, 0.8406293927513694, 0.8406293927513694, 0.8406293927513694]}], \"average_precision_score_micro\": [{\"categories\": [\"0\", \"2\", \"6\", \"8\", \"12\", \"16\", \"20\", \"23\", \"25\", \"26\", \"28\", \"29\", \"30\", \"32\", \"33\", \"34\", \"35\", \"36\", \"37\", \"39\"], \"mode\": \"markers\", \"name\": \"average_precision_score_micro\", \"stepped\": false, \"type\": \"scatter\", \"data\": [0.8884394781956185, 0.8788574717373183, 0.8393349246133952, 0.6565065274748669, 0.816381705341489, 0.7651912949512549, 0.8652018529445242, 0.8714337848222635, 0.8903708411380242, 0.9038029080400081, 0.8888360685151667, 0.8980008715698288, 0.6215283856082559, 0.9099201325582771, 0.8777863847950642, 0.8972257221166846, 0.6292673366391924, 0.8808057099667568, 0.8922185710442564, 0.8885711300910246]}, {\"categories\": [\"0\", \"2\", \"6\", \"8\", \"12\", \"16\", \"20\", \"23\", \"25\", \"26\", \"28\", \"29\", \"30\", \"32\", \"33\", \"34\", \"35\", \"36\", \"37\", \"39\"], \"mode\": \"lines\", \"name\": \"average_precision_score_micro_max\", \"stepped\": true, \"type\": \"scatter\", \"data\": [0.8884394781956185, 0.8884394781956185, 0.8884394781956185, 0.8884394781956185, 0.8884394781956185, 0.8884394781956185, 0.8884394781956185, 0.8884394781956185, 0.8903708411380242, 0.9038029080400081, 0.9038029080400081, 0.9038029080400081, 0.9038029080400081, 0.9099201325582771, 0.9099201325582771, 0.9099201325582771, 0.9099201325582771, 0.9099201325582771, 0.9099201325582771, 0.9099201325582771]}], \"precision_score_macro\": [{\"categories\": [\"0\", \"2\", \"6\", \"8\", \"12\", \"16\", \"20\", \"23\", \"25\", \"26\", \"28\", \"29\", \"30\", \"32\", \"33\", \"34\", \"35\", \"36\", \"37\", \"39\"], \"mode\": \"markers\", \"name\": \"precision_score_macro\", \"stepped\": false, \"type\": \"scatter\", \"data\": [0.7988633681117159, 0.810876738216509, 0.7534866167988464, 0.5439753134796238, 0.7508858858858859, 0.7267820512820513, 0.7702834986015764, 0.7961148769629214, 0.8094503396332665, 0.8312864553777107, 0.8433582504867884, 0.8279735355337496, 0.3394742729306488, 0.8311942931168266, 0.7938652843038541, 0.828088151825471, 0.3394742729306488, 0.8293543236945271, 0.8147014519297128, 0.8263719039581109]}, {\"categories\": [\"0\", \"2\", \"6\", \"8\", \"12\", \"16\", \"20\", \"23\", \"25\", \"26\", \"28\", \"29\", \"30\", \"32\", \"33\", \"34\", \"35\", \"36\", \"37\", \"39\"], \"mode\": \"lines\", \"name\": \"precision_score_macro_max\", \"stepped\": true, \"type\": \"scatter\", \"data\": [0.7988633681117159, 0.810876738216509, 0.810876738216509, 0.810876738216509, 0.810876738216509, 0.810876738216509, 0.810876738216509, 0.810876738216509, 0.810876738216509, 0.8312864553777107, 0.8433582504867884, 0.8433582504867884, 0.8433582504867884, 0.8433582504867884, 0.8433582504867884, 0.8433582504867884, 0.8433582504867884, 0.8433582504867884, 0.8433582504867884, 0.8433582504867884]}], \"precision_score_micro\": [{\"categories\": [\"0\", \"2\", \"6\", \"8\", \"12\", \"16\", \"20\", \"23\", \"25\", \"26\", \"28\", \"29\", \"30\", \"32\", \"33\", \"34\", \"35\", \"36\", \"37\", \"39\"], \"mode\": \"markers\", \"name\": \"precision_score_micro\", \"stepped\": false, \"type\": \"scatter\", \"data\": [0.8093512304250559, 0.8260178970917226, 0.7691498881431768, 0.6421252796420581, 0.76248322147651, 0.7391275167785235, 0.7892170022371365, 0.7959731543624161, 0.8093512304250559, 0.8394183445190158, 0.846152125279642, 0.8360402684563759, 0.6789485458612976, 0.8427740492170023, 0.805973154362416, 0.815973154362416, 0.6789485458612976, 0.8227516778523489, 0.8260402684563759, 0.8226845637583893]}, {\"categories\": [\"0\", \"2\", \"6\", \"8\", \"12\", \"16\", \"20\", \"23\", \"25\", \"26\", \"28\", \"29\", \"30\", \"32\", \"33\", \"34\", \"35\", \"36\", \"37\", \"39\"], \"mode\": \"lines\", \"name\": \"precision_score_micro_max\", \"stepped\": true, \"type\": \"scatter\", \"data\": [0.8093512304250559, 0.8260178970917226, 0.8260178970917226, 0.8260178970917226, 0.8260178970917226, 0.8260178970917226, 0.8260178970917226, 0.8260178970917226, 0.8260178970917226, 0.8394183445190158, 0.846152125279642, 0.846152125279642, 0.846152125279642, 0.846152125279642, 0.846152125279642, 0.846152125279642, 0.846152125279642, 0.846152125279642, 0.846152125279642, 0.846152125279642]}], \"f1_score_micro\": [{\"categories\": [\"0\", \"2\", \"6\", \"8\", \"12\", \"16\", \"20\", \"23\", \"25\", \"26\", \"28\", \"29\", \"30\", \"32\", \"33\", \"34\", \"35\", \"36\", \"37\", \"39\"], \"mode\": \"markers\", \"name\": \"f1_score_micro\", \"stepped\": false, \"type\": \"scatter\", \"data\": [0.8093512304250559, 0.8260178970917226, 0.7691498881431768, 0.6421252796420581, 0.76248322147651, 0.7391275167785235, 0.7892170022371365, 0.7959731543624162, 0.8093512304250559, 0.8394183445190158, 0.846152125279642, 0.8360402684563758, 0.6789485458612976, 0.8427740492170024, 0.805973154362416, 0.815973154362416, 0.6789485458612976, 0.8227516778523489, 0.8260402684563758, 0.8226845637583892]}, {\"categories\": [\"0\", \"2\", \"6\", \"8\", \"12\", \"16\", \"20\", \"23\", \"25\", \"26\", \"28\", \"29\", \"30\", \"32\", \"33\", \"34\", \"35\", \"36\", \"37\", \"39\"], \"mode\": \"lines\", \"name\": \"f1_score_micro_max\", \"stepped\": true, \"type\": \"scatter\", \"data\": [0.8093512304250559, 0.8260178970917226, 0.8260178970917226, 0.8260178970917226, 0.8260178970917226, 0.8260178970917226, 0.8260178970917226, 0.8260178970917226, 0.8260178970917226, 0.8394183445190158, 0.846152125279642, 0.846152125279642, 0.846152125279642, 0.846152125279642, 0.846152125279642, 0.846152125279642, 0.846152125279642, 0.846152125279642, 0.846152125279642, 0.846152125279642]}], \"AUC_micro\": [{\"categories\": [\"0\", \"2\", \"6\", \"8\", \"12\", \"16\", \"20\", \"23\", \"25\", \"26\", \"28\", \"29\", \"30\", \"32\", \"33\", \"34\", \"35\", \"36\", \"37\", \"39\"], \"mode\": \"markers\", \"name\": \"AUC_micro\", \"stepped\": false, \"type\": \"scatter\", \"data\": [0.8862267965907442, 0.8856440050247987, 0.8461609567136616, 0.6708244163175832, 0.825927661917131, 0.7837091812681112, 0.8690564268876777, 0.8802741578207187, 0.8909290772687917, 0.9069668613525919, 0.8945764384987662, 0.8995539930633756, 0.6789485458612976, 0.9098752788913413, 0.8804999724737124, 0.8943213709092184, 0.6798901100551027, 0.8807273576265333, 0.8927863169326706, 0.8878915924708096]}, {\"categories\": [\"0\", \"2\", \"6\", \"8\", \"12\", \"16\", \"20\", \"23\", \"25\", \"26\", \"28\", \"29\", \"30\", \"32\", \"33\", \"34\", \"35\", \"36\", \"37\", \"39\"], \"mode\": \"lines\", \"name\": \"AUC_micro_max\", \"stepped\": true, \"type\": \"scatter\", \"data\": [0.8862267965907442, 0.8862267965907442, 0.8862267965907442, 0.8862267965907442, 0.8862267965907442, 0.8862267965907442, 0.8862267965907442, 0.8862267965907442, 0.8909290772687917, 0.9069668613525919, 0.9069668613525919, 0.9069668613525919, 0.9069668613525919, 0.9098752788913413, 0.9098752788913413, 0.9098752788913413, 0.9098752788913413, 0.9098752788913413, 0.9098752788913413, 0.9098752788913413]}], \"balanced_accuracy\": [{\"categories\": [\"0\", \"2\", \"6\", \"8\", \"12\", \"16\", \"20\", \"23\", \"25\", \"26\", \"28\", \"29\", \"30\", \"32\", \"33\", \"34\", \"35\", \"36\", \"37\", \"39\"], \"mode\": \"markers\", \"name\": \"balanced_accuracy\", \"stepped\": false, \"type\": \"scatter\", \"data\": [0.7561758640679782, 0.7986537041612516, 0.7787727477761697, 0.5281331407642054, 0.7819440078538262, 0.6296529144626041, 0.7495917368421985, 0.7183658485513438, 0.7480541089408167, 0.7972505939388606, 0.7966333257549914, 0.8117915166909401, 0.5, 0.8051965361666048, 0.7563759440999909, 0.7439658821185943, 0.5, 0.7664868032740798, 0.7790350077254411, 0.7859126587226422]}, {\"categories\": [\"0\", \"2\", \"6\", \"8\", \"12\", \"16\", \"20\", \"23\", \"25\", \"26\", \"28\", \"29\", \"30\", \"32\", \"33\", \"34\", \"35\", \"36\", \"37\", \"39\"], \"mode\": \"lines\", \"name\": \"balanced_accuracy_max\", \"stepped\": true, \"type\": \"scatter\", \"data\": [0.7561758640679782, 0.7986537041612516, 0.7986537041612516, 0.7986537041612516, 0.7986537041612516, 0.7986537041612516, 0.7986537041612516, 0.7986537041612516, 0.7986537041612516, 0.7986537041612516, 0.7986537041612516, 0.8117915166909401, 0.8117915166909401, 0.8117915166909401, 0.8117915166909401, 0.8117915166909401, 0.8117915166909401, 0.8117915166909401, 0.8117915166909401, 0.8117915166909401]}], \"precision_score_weighted\": [{\"categories\": [\"0\", \"2\", \"6\", \"8\", \"12\", \"16\", \"20\", \"23\", \"25\", \"26\", \"28\", \"29\", \"30\", \"32\", \"33\", \"34\", \"35\", \"36\", \"37\", \"39\"], \"mode\": \"markers\", \"name\": \"precision_score_weighted\", \"stepped\": false, \"type\": \"scatter\", \"data\": [0.8107378431547876, 0.8327933274271412, 0.8038063136671243, 0.5976979453760002, 0.8064398358089634, 0.7336567716399931, 0.7940787076142843, 0.7974082314798365, 0.8146678931430936, 0.8413893590117693, 0.847059350450638, 0.8477583477963353, 0.46100265853890465, 0.8438964820277994, 0.8083041556949746, 0.8235761918790682, 0.46100265853890465, 0.8323112312022249, 0.8261128868537682, 0.8392858980871015]}, {\"categories\": [\"0\", \"2\", \"6\", \"8\", \"12\", \"16\", \"20\", \"23\", \"25\", \"26\", \"28\", \"29\", \"30\", \"32\", \"33\", \"34\", \"35\", \"36\", \"37\", \"39\"], \"mode\": \"lines\", \"name\": \"precision_score_weighted_max\", \"stepped\": true, \"type\": \"scatter\", \"data\": [0.8107378431547876, 0.8327933274271412, 0.8327933274271412, 0.8327933274271412, 0.8327933274271412, 0.8327933274271412, 0.8327933274271412, 0.8327933274271412, 0.8327933274271412, 0.8413893590117693, 0.847059350450638, 0.8477583477963353, 0.8477583477963353, 0.8477583477963353, 0.8477583477963353, 0.8477583477963353, 0.8477583477963353, 0.8477583477963353, 0.8477583477963353, 0.8477583477963353]}]}, \"metricName\": null, \"primaryMetricName\": \"accuracy\", \"showLegend\": false}, \"run_metrics\": [{\"name\": \"experiment_status\", \"run_id\": \"AutoML_6d8521ce-219d-40b5-a0b8-88593c3c2c65\", \"categories\": [0, 1, 2, 3, 4, 5, 6, 7, 8, 9, 10, 11, 12, 13], \"series\": [{\"data\": [\"DatasetEvaluation\", \"FeaturesGeneration\", \"DatasetFeaturization\", \"DatasetFeaturizationCompleted\", \"DatasetCrossValidationSplit\", \"ModelSelection\", \"BestRunExplainModel\", \"ModelExplanationDataSetSetup\", \"PickSurrogateModel\", \"EngineeredFeatureExplanations\", \"EngineeredFeatureExplanations\", \"RawFeaturesExplanations\", \"RawFeaturesExplanations\", \"BestRunExplainModel\"]}]}, {\"name\": \"experiment_status_description\", \"run_id\": \"AutoML_6d8521ce-219d-40b5-a0b8-88593c3c2c65\", \"categories\": [0, 1, 2, 3, 4, 5, 6, 7, 8, 9, 10, 11, 12, 13], \"series\": [{\"data\": [\"Gathering dataset statistics.\", \"Generating features for the dataset.\", \"Beginning to fit featurizers and featurize the dataset.\", \"Completed fit featurizers and featurizing the dataset.\", \"Generating individually featurized CV splits.\", \"Beginning model selection.\", \"Best run model explanations started\", \"Model explanations data setup completed\", \"Choosing LightGBM as the surrogate model for explanations\", \"Computation of engineered features started\", \"Computation of engineered features completed\", \"Computation of raw features started\", \"Computation of raw features completed\", \"Best run model explanations completed\"]}]}, {\"name\": \"balanced_accuracy\", \"run_id\": \"AutoML_6d8521ce-219d-40b5-a0b8-88593c3c2c65\", \"categories\": [0], \"series\": [{\"data\": [0.8197508727527244]}]}, {\"name\": \"accuracy\", \"run_id\": \"AutoML_6d8521ce-219d-40b5-a0b8-88593c3c2c65\", \"categories\": [0], \"series\": [{\"data\": [0.866241610738255]}]}, {\"name\": \"AUC_macro\", \"run_id\": \"AutoML_6d8521ce-219d-40b5-a0b8-88593c3c2c65\", \"categories\": [0], \"series\": [{\"data\": [0.896377257454488]}]}, {\"name\": \"AUC_micro\", \"run_id\": \"AutoML_6d8521ce-219d-40b5-a0b8-88593c3c2c65\", \"categories\": [0], \"series\": [{\"data\": [0.9074632323869295]}]}, {\"name\": \"recall_score_macro\", \"run_id\": \"AutoML_6d8521ce-219d-40b5-a0b8-88593c3c2c65\", \"categories\": [0], \"series\": [{\"data\": [0.8197508727527244]}]}, {\"name\": \"precision_score_micro\", \"run_id\": \"AutoML_6d8521ce-219d-40b5-a0b8-88593c3c2c65\", \"categories\": [0], \"series\": [{\"data\": [0.866241610738255]}]}, {\"name\": \"recall_score_weighted\", \"run_id\": \"AutoML_6d8521ce-219d-40b5-a0b8-88593c3c2c65\", \"categories\": [0], \"series\": [{\"data\": [0.866241610738255]}]}, {\"name\": \"f1_score_weighted\", \"run_id\": \"AutoML_6d8521ce-219d-40b5-a0b8-88593c3c2c65\", \"categories\": [0], \"series\": [{\"data\": [0.8613073585402803]}]}, {\"name\": \"f1_score_macro\", \"run_id\": \"AutoML_6d8521ce-219d-40b5-a0b8-88593c3c2c65\", \"categories\": [0], \"series\": [{\"data\": [0.8364553803205838]}]}, {\"name\": \"AUC_weighted\", \"run_id\": \"AutoML_6d8521ce-219d-40b5-a0b8-88593c3c2c65\", \"categories\": [0], \"series\": [{\"data\": [0.8963772574544879]}]}, {\"name\": \"precision_score_weighted\", \"run_id\": \"AutoML_6d8521ce-219d-40b5-a0b8-88593c3c2c65\", \"categories\": [0], \"series\": [{\"data\": [0.8686737497093369]}]}, {\"name\": \"average_precision_score_macro\", \"run_id\": \"AutoML_6d8521ce-219d-40b5-a0b8-88593c3c2c65\", \"categories\": [0], \"series\": [{\"data\": [0.8754220537607091]}]}, {\"name\": \"average_precision_score_weighted\", \"run_id\": \"AutoML_6d8521ce-219d-40b5-a0b8-88593c3c2c65\", \"categories\": [0], \"series\": [{\"data\": [0.8997707435335137]}]}, {\"name\": \"norm_macro_recall\", \"run_id\": \"AutoML_6d8521ce-219d-40b5-a0b8-88593c3c2c65\", \"categories\": [0], \"series\": [{\"data\": [0.6395017455054488]}]}, {\"name\": \"weighted_accuracy\", \"run_id\": \"AutoML_6d8521ce-219d-40b5-a0b8-88593c3c2c65\", \"categories\": [0], \"series\": [{\"data\": [0.9023216380073948]}]}, {\"name\": \"matthews_correlation\", \"run_id\": \"AutoML_6d8521ce-219d-40b5-a0b8-88593c3c2c65\", \"categories\": [0], \"series\": [{\"data\": [0.6868352689349047]}]}, {\"name\": \"recall_score_micro\", \"run_id\": \"AutoML_6d8521ce-219d-40b5-a0b8-88593c3c2c65\", \"categories\": [0], \"series\": [{\"data\": [0.866241610738255]}]}, {\"name\": \"average_precision_score_micro\", \"run_id\": \"AutoML_6d8521ce-219d-40b5-a0b8-88593c3c2c65\", \"categories\": [0], \"series\": [{\"data\": [0.9056011186894737]}]}, {\"name\": \"precision_score_macro\", \"run_id\": \"AutoML_6d8521ce-219d-40b5-a0b8-88593c3c2c65\", \"categories\": [0], \"series\": [{\"data\": [0.8694440231780757]}]}, {\"name\": \"log_loss\", \"run_id\": \"AutoML_6d8521ce-219d-40b5-a0b8-88593c3c2c65\", \"categories\": [0], \"series\": [{\"data\": [0.40493050978650286]}]}, {\"name\": \"f1_score_micro\", \"run_id\": \"AutoML_6d8521ce-219d-40b5-a0b8-88593c3c2c65\", \"categories\": [0], \"series\": [{\"data\": [0.8662416107382549]}]}], \"run_logs\": \"\\nRun is completed.\", \"graph\": {}, \"widget_settings\": {\"childWidgetDisplay\": \"popup\", \"send_telemetry\": false, \"log_level\": \"INFO\", \"sdk_version\": \"1.51.0\"}, \"loading\": false}"
          },
          "metadata": {},
          "output_type": "display_data"
        },
        {
          "name": "stdout",
          "output_type": "stream",
          "text": [
            "------\n",
            "Run(Experiment: AutoML_Heart-Failure-experiment,\n",
            "Id: AutoML_6d8521ce-219d-40b5-a0b8-88593c3c2c65_38,\n",
            "Type: azureml.scriptrun,\n",
            "Status: Completed)\n",
            "------\n",
            "Run(Experiment: AutoML_Heart-Failure-experiment,\n",
            "Id: AutoML_6d8521ce-219d-40b5-a0b8-88593c3c2c65_39,\n",
            "Type: azureml.scriptrun,\n",
            "Status: Completed)\n",
            "------\n",
            "Run(Experiment: AutoML_Heart-Failure-experiment,\n",
            "Id: AutoML_6d8521ce-219d-40b5-a0b8-88593c3c2c65_37,\n",
            "Type: azureml.scriptrun,\n",
            "Status: Canceled)\n",
            "------\n",
            "Run(Experiment: AutoML_Heart-Failure-experiment,\n",
            "Id: AutoML_6d8521ce-219d-40b5-a0b8-88593c3c2c65_36,\n",
            "Type: azureml.scriptrun,\n",
            "Status: Completed)\n",
            "------\n",
            "Run(Experiment: AutoML_Heart-Failure-experiment,\n",
            "Id: AutoML_6d8521ce-219d-40b5-a0b8-88593c3c2c65_35,\n",
            "Type: azureml.scriptrun,\n",
            "Status: Completed)\n",
            "------\n",
            "Run(Experiment: AutoML_Heart-Failure-experiment,\n",
            "Id: AutoML_6d8521ce-219d-40b5-a0b8-88593c3c2c65_34,\n",
            "Type: azureml.scriptrun,\n",
            "Status: Completed)\n",
            "------\n",
            "Run(Experiment: AutoML_Heart-Failure-experiment,\n",
            "Id: AutoML_6d8521ce-219d-40b5-a0b8-88593c3c2c65_33,\n",
            "Type: azureml.scriptrun,\n",
            "Status: Completed)\n",
            "------\n",
            "Run(Experiment: AutoML_Heart-Failure-experiment,\n",
            "Id: AutoML_6d8521ce-219d-40b5-a0b8-88593c3c2c65_31,\n",
            "Type: azureml.scriptrun,\n",
            "Status: Completed)\n",
            "------\n",
            "Run(Experiment: AutoML_Heart-Failure-experiment,\n",
            "Id: AutoML_6d8521ce-219d-40b5-a0b8-88593c3c2c65_32,\n",
            "Type: azureml.scriptrun,\n",
            "Status: Completed)\n",
            "------\n",
            "Run(Experiment: AutoML_Heart-Failure-experiment,\n",
            "Id: AutoML_6d8521ce-219d-40b5-a0b8-88593c3c2c65_30,\n",
            "Type: azureml.scriptrun,\n",
            "Status: Completed)\n",
            "------\n",
            "Run(Experiment: AutoML_Heart-Failure-experiment,\n",
            "Id: AutoML_6d8521ce-219d-40b5-a0b8-88593c3c2c65_29,\n",
            "Type: azureml.scriptrun,\n",
            "Status: Completed)\n",
            "------\n",
            "Run(Experiment: AutoML_Heart-Failure-experiment,\n",
            "Id: AutoML_6d8521ce-219d-40b5-a0b8-88593c3c2c65_27,\n",
            "Type: azureml.scriptrun,\n",
            "Status: Completed)\n",
            "------\n",
            "Run(Experiment: AutoML_Heart-Failure-experiment,\n",
            "Id: AutoML_6d8521ce-219d-40b5-a0b8-88593c3c2c65_26,\n",
            "Type: azureml.scriptrun,\n",
            "Status: Completed)\n",
            "------\n",
            "Run(Experiment: AutoML_Heart-Failure-experiment,\n",
            "Id: AutoML_6d8521ce-219d-40b5-a0b8-88593c3c2c65_28,\n",
            "Type: azureml.scriptrun,\n",
            "Status: Completed)\n",
            "------\n",
            "Run(Experiment: AutoML_Heart-Failure-experiment,\n",
            "Id: AutoML_6d8521ce-219d-40b5-a0b8-88593c3c2c65_25,\n",
            "Type: azureml.scriptrun,\n",
            "Status: Completed)\n",
            "------\n",
            "Run(Experiment: AutoML_Heart-Failure-experiment,\n",
            "Id: AutoML_6d8521ce-219d-40b5-a0b8-88593c3c2c65_24,\n",
            "Type: azureml.scriptrun,\n",
            "Status: Completed)\n",
            "------\n",
            "Run(Experiment: AutoML_Heart-Failure-experiment,\n",
            "Id: AutoML_6d8521ce-219d-40b5-a0b8-88593c3c2c65_22,\n",
            "Type: azureml.scriptrun,\n",
            "Status: Completed)\n",
            "------\n",
            "Run(Experiment: AutoML_Heart-Failure-experiment,\n",
            "Id: AutoML_6d8521ce-219d-40b5-a0b8-88593c3c2c65_23,\n",
            "Type: azureml.scriptrun,\n",
            "Status: Completed)\n",
            "------\n",
            "Run(Experiment: AutoML_Heart-Failure-experiment,\n",
            "Id: AutoML_6d8521ce-219d-40b5-a0b8-88593c3c2c65_21,\n",
            "Type: azureml.scriptrun,\n",
            "Status: Completed)\n",
            "------\n",
            "Run(Experiment: AutoML_Heart-Failure-experiment,\n",
            "Id: AutoML_6d8521ce-219d-40b5-a0b8-88593c3c2c65_20,\n",
            "Type: azureml.scriptrun,\n",
            "Status: Completed)\n",
            "------\n",
            "Run(Experiment: AutoML_Heart-Failure-experiment,\n",
            "Id: AutoML_6d8521ce-219d-40b5-a0b8-88593c3c2c65_19,\n",
            "Type: None,\n",
            "Status: Completed)\n",
            "------\n",
            "Run(Experiment: AutoML_Heart-Failure-experiment,\n",
            "Id: AutoML_6d8521ce-219d-40b5-a0b8-88593c3c2c65_14,\n",
            "Type: None,\n",
            "Status: Completed)\n",
            "------\n",
            "Run(Experiment: AutoML_Heart-Failure-experiment,\n",
            "Id: AutoML_6d8521ce-219d-40b5-a0b8-88593c3c2c65_18,\n",
            "Type: None,\n",
            "Status: Completed)\n",
            "------\n",
            "Run(Experiment: AutoML_Heart-Failure-experiment,\n",
            "Id: AutoML_6d8521ce-219d-40b5-a0b8-88593c3c2c65_4,\n",
            "Type: None,\n",
            "Status: Completed)\n",
            "------\n",
            "Run(Experiment: AutoML_Heart-Failure-experiment,\n",
            "Id: AutoML_6d8521ce-219d-40b5-a0b8-88593c3c2c65_9,\n",
            "Type: None,\n",
            "Status: Completed)\n",
            "------\n",
            "Run(Experiment: AutoML_Heart-Failure-experiment,\n",
            "Id: AutoML_6d8521ce-219d-40b5-a0b8-88593c3c2c65_13,\n",
            "Type: None,\n",
            "Status: Completed)\n",
            "------\n",
            "Run(Experiment: AutoML_Heart-Failure-experiment,\n",
            "Id: AutoML_6d8521ce-219d-40b5-a0b8-88593c3c2c65_17,\n",
            "Type: None,\n",
            "Status: Completed)\n",
            "------\n",
            "Run(Experiment: AutoML_Heart-Failure-experiment,\n",
            "Id: AutoML_6d8521ce-219d-40b5-a0b8-88593c3c2c65_3,\n",
            "Type: None,\n",
            "Status: Completed)\n",
            "------\n",
            "Run(Experiment: AutoML_Heart-Failure-experiment,\n",
            "Id: AutoML_6d8521ce-219d-40b5-a0b8-88593c3c2c65_8,\n",
            "Type: None,\n",
            "Status: Completed)\n",
            "------\n",
            "Run(Experiment: AutoML_Heart-Failure-experiment,\n",
            "Id: AutoML_6d8521ce-219d-40b5-a0b8-88593c3c2c65_12,\n",
            "Type: None,\n",
            "Status: Completed)\n",
            "------\n",
            "Run(Experiment: AutoML_Heart-Failure-experiment,\n",
            "Id: AutoML_6d8521ce-219d-40b5-a0b8-88593c3c2c65_16,\n",
            "Type: None,\n",
            "Status: Completed)\n",
            "------\n",
            "Run(Experiment: AutoML_Heart-Failure-experiment,\n",
            "Id: AutoML_6d8521ce-219d-40b5-a0b8-88593c3c2c65_7,\n",
            "Type: None,\n",
            "Status: Completed)\n",
            "------\n",
            "Run(Experiment: AutoML_Heart-Failure-experiment,\n",
            "Id: AutoML_6d8521ce-219d-40b5-a0b8-88593c3c2c65_2,\n",
            "Type: None,\n",
            "Status: Completed)\n",
            "------\n",
            "Run(Experiment: AutoML_Heart-Failure-experiment,\n",
            "Id: AutoML_6d8521ce-219d-40b5-a0b8-88593c3c2c65_11,\n",
            "Type: None,\n",
            "Status: Completed)\n",
            "------\n",
            "Run(Experiment: AutoML_Heart-Failure-experiment,\n",
            "Id: AutoML_6d8521ce-219d-40b5-a0b8-88593c3c2c65_15,\n",
            "Type: None,\n",
            "Status: Completed)\n",
            "------\n",
            "Run(Experiment: AutoML_Heart-Failure-experiment,\n",
            "Id: AutoML_6d8521ce-219d-40b5-a0b8-88593c3c2c65_6,\n",
            "Type: None,\n",
            "Status: Completed)\n",
            "------\n",
            "Run(Experiment: AutoML_Heart-Failure-experiment,\n",
            "Id: AutoML_6d8521ce-219d-40b5-a0b8-88593c3c2c65_1,\n",
            "Type: None,\n",
            "Status: Completed)\n",
            "------\n",
            "Run(Experiment: AutoML_Heart-Failure-experiment,\n",
            "Id: AutoML_6d8521ce-219d-40b5-a0b8-88593c3c2c65_worker_3,\n",
            "Type: azureml.scriptrun,\n",
            "Status: Completed)\n",
            "------\n",
            "Run(Experiment: AutoML_Heart-Failure-experiment,\n",
            "Id: AutoML_6d8521ce-219d-40b5-a0b8-88593c3c2c65_10,\n",
            "Type: None,\n",
            "Status: Completed)\n",
            "------\n",
            "Run(Experiment: AutoML_Heart-Failure-experiment,\n",
            "Id: AutoML_6d8521ce-219d-40b5-a0b8-88593c3c2c65_5,\n",
            "Type: None,\n",
            "Status: Completed)\n",
            "------\n",
            "Run(Experiment: AutoML_Heart-Failure-experiment,\n",
            "Id: AutoML_6d8521ce-219d-40b5-a0b8-88593c3c2c65_0,\n",
            "Type: None,\n",
            "Status: Completed)\n",
            "------\n",
            "Run(Experiment: AutoML_Heart-Failure-experiment,\n",
            "Id: AutoML_6d8521ce-219d-40b5-a0b8-88593c3c2c65_worker_2,\n",
            "Type: azureml.scriptrun,\n",
            "Status: Completed)\n",
            "------\n",
            "Run(Experiment: AutoML_Heart-Failure-experiment,\n",
            "Id: AutoML_6d8521ce-219d-40b5-a0b8-88593c3c2c65_worker_1,\n",
            "Type: azureml.scriptrun,\n",
            "Status: Completed)\n",
            "------\n",
            "Run(Experiment: AutoML_Heart-Failure-experiment,\n",
            "Id: AutoML_6d8521ce-219d-40b5-a0b8-88593c3c2c65_worker_0,\n",
            "Type: azureml.scriptrun,\n",
            "Status: Completed)\n",
            "------\n",
            "Run(Experiment: AutoML_Heart-Failure-experiment,\n",
            "Id: AutoML_6d8521ce-219d-40b5-a0b8-88593c3c2c65_featurize,\n",
            "Type: automl.featurization,\n",
            "Status: Completed)\n",
            "------\n",
            "Run(Experiment: AutoML_Heart-Failure-experiment,\n",
            "Id: AutoML_6d8521ce-219d-40b5-a0b8-88593c3c2c65_setup,\n",
            "Type: azureml.scriptrun,\n",
            "Status: Completed)\n"
          ]
        }
      ],
      "source": [
        "RunDetails(automl_run).show()\n",
        "for children_run in automl_run.get_children():\n",
        "    print('------')\n",
        "    print(children_run)\n"
      ]
    },
    {
      "cell_type": "markdown",
      "metadata": {
        "id": "ZzHR_zZGxETY"
      },
      "source": [
        "## Best Model\n",
        "\n",
        "TODO: In the cell below, get the best model from the automl experiments and display all the properties of the model.\n",
        "\n"
      ]
    },
    {
      "cell_type": "code",
      "execution_count": 36,
      "metadata": {
        "gather": {
          "logged": 1697879353412
        },
        "id": "ThChoYTaxETY",
        "jupyter": {
          "outputs_hidden": false,
          "source_hidden": false
        },
        "nteract": {
          "transient": {
            "deleting": false
          }
        }
      },
      "outputs": [
        {
          "name": "stdout",
          "output_type": "stream",
          "text": [
            "Run(Experiment: AutoML_Heart-Failure-experiment,\n",
            "Id: AutoML_6d8521ce-219d-40b5-a0b8-88593c3c2c65_38,\n",
            "Type: azureml.scriptrun,\n",
            "Status: Completed)\n",
            "f1_score_micro: 0.8662416107382549\n",
            "weighted_accuracy: 0.9023216380073948\n",
            "matthews_correlation: 0.6868352689349047\n",
            "f1_score_weighted: 0.8613073585402803\n",
            "precision_score_micro: 0.866241610738255\n",
            "recall_score_weighted: 0.866241610738255\n",
            "AUC_weighted: 0.8963772574544879\n",
            "norm_macro_recall: 0.6395017455054488\n",
            "average_precision_score_weighted: 0.8997707435335137\n",
            "f1_score_macro: 0.8364553803205838\n",
            "precision_score_weighted: 0.8686737497093369\n",
            "recall_score_macro: 0.8197508727527244\n",
            "log_loss: 0.40493050978650286\n",
            "average_precision_score_macro: 0.8754220537607091\n",
            "recall_score_micro: 0.866241610738255\n",
            "AUC_micro: 0.9074632323869295\n",
            "precision_score_macro: 0.8694440231780757\n",
            "average_precision_score_micro: 0.9056011186894737\n",
            "AUC_macro: 0.896377257454488\n",
            "accuracy: 0.866241610738255\n",
            "balanced_accuracy: 0.8197508727527244\n",
            "confusion_matrix: aml://artifactId/ExperimentRun/dcid.AutoML_6d8521ce-219d-40b5-a0b8-88593c3c2c65_38/confusion_matrix\n",
            "accuracy_table: aml://artifactId/ExperimentRun/dcid.AutoML_6d8521ce-219d-40b5-a0b8-88593c3c2c65_38/accuracy_table\n"
          ]
        }
      ],
      "source": [
        "best_run = automl_run.get_best_child()\n",
        "print(best_run)\n",
        "\n",
        "brm = best_run.get_metrics()\n",
        "\n",
        "for metric_name, metric in zip(brm.keys(), brm.values()):\n",
        "    print(f\"{metric_name}: {metric}\")\n"
      ]
    },
    {
      "cell_type": "code",
      "execution_count": 37,
      "metadata": {
        "gather": {
          "logged": 1697879363110
        },
        "id": "Vwy4ho6C3hAi"
      },
      "outputs": [
        {
          "name": "stdout",
          "output_type": "stream",
          "text": [
            "{'runTemplate': 'automl_child', 'pipeline_id': '__AutoML_Ensemble__', 'pipeline_spec': '{\"pipeline_id\":\"__AutoML_Ensemble__\",\"objects\":[{\"module\":\"azureml.train.automl.ensemble\",\"class_name\":\"Ensemble\",\"spec_class\":\"sklearn\",\"param_args\":[],\"param_kwargs\":{\"automl_settings\":\"{\\'task_type\\':\\'classification\\',\\'primary_metric\\':\\'accuracy\\',\\'verbosity\\':20,\\'ensemble_iterations\\':15,\\'is_timeseries\\':False,\\'name\\':\\'AutoML_Heart-Failure-experiment\\',\\'compute_target\\':\\'aml-compute1\\',\\'subscription_id\\':\\'61c5c3f0-6dc7-4ed9-a7f3-c704b20e3b30\\',\\'region\\':\\'southcentralus\\',\\'spark_service\\':None}\",\"ensemble_run_id\":\"AutoML_6d8521ce-219d-40b5-a0b8-88593c3c2c65_38\",\"experiment_name\":\"AutoML_Heart-Failure-experiment\",\"workspace_name\":\"quick-starts-ws-243057\",\"subscription_id\":\"61c5c3f0-6dc7-4ed9-a7f3-c704b20e3b30\",\"resource_group_name\":\"aml-quickstarts-243057\"}}]}', 'training_percent': '100', 'predicted_cost': None, 'iteration': '38', '_aml_system_scenario_identification': 'Remote.Child', '_azureml.ComputeTargetType': 'amlctrain', 'ContentSnapshotId': '4ca3132d-93c0-4961-a48c-ffbdcc61847c', 'ProcessInfoFile': 'azureml-logs/process_info.json', 'ProcessStatusFile': 'azureml-logs/process_status.json', 'run_preprocessor': '', 'run_algorithm': 'VotingEnsemble', 'ensembled_iterations': '[21, 28, 32, 5, 26, 19, 17, 34, 33, 22, 13]', 'ensembled_algorithms': \"['XGBoostClassifier', 'LightGBM', 'LightGBM', 'LightGBM', 'RandomForest', 'XGBoostClassifier', 'LogisticRegression', 'XGBoostClassifier', 'XGBoostClassifier', 'RandomForest', 'KNN']\", 'ensembled_run_ids': \"['AutoML_6d8521ce-219d-40b5-a0b8-88593c3c2c65_21', 'AutoML_6d8521ce-219d-40b5-a0b8-88593c3c2c65_28', 'AutoML_6d8521ce-219d-40b5-a0b8-88593c3c2c65_32', 'AutoML_6d8521ce-219d-40b5-a0b8-88593c3c2c65_5', 'AutoML_6d8521ce-219d-40b5-a0b8-88593c3c2c65_26', 'AutoML_6d8521ce-219d-40b5-a0b8-88593c3c2c65_19', 'AutoML_6d8521ce-219d-40b5-a0b8-88593c3c2c65_17', 'AutoML_6d8521ce-219d-40b5-a0b8-88593c3c2c65_34', 'AutoML_6d8521ce-219d-40b5-a0b8-88593c3c2c65_33', 'AutoML_6d8521ce-219d-40b5-a0b8-88593c3c2c65_22', 'AutoML_6d8521ce-219d-40b5-a0b8-88593c3c2c65_13']\", 'ensemble_weights': '[0.15384615384615385, 0.07692307692307693, 0.07692307692307693, 0.07692307692307693, 0.07692307692307693, 0.07692307692307693, 0.07692307692307693, 0.07692307692307693, 0.15384615384615385, 0.07692307692307693, 0.07692307692307693]', 'best_individual_pipeline_score': '0.8561744966442952', 'best_individual_iteration': '21', 'model_output_path': 'outputs/model.pkl', 'conda_env_data_location': 'aml://artifact/ExperimentRun/dcid.AutoML_6d8521ce-219d-40b5-a0b8-88593c3c2c65_38/outputs/conda_env_v_1_0_0.yml', 'model_data_location': 'aml://artifact/ExperimentRun/dcid.AutoML_6d8521ce-219d-40b5-a0b8-88593c3c2c65_38/outputs/model.pkl', 'model_size_on_disk': '789496', 'scoring_data_location': 'aml://artifact/ExperimentRun/dcid.AutoML_6d8521ce-219d-40b5-a0b8-88593c3c2c65_38/outputs/scoring_file_v_1_0_0.py', 'scoring_data_location_v2': 'aml://artifact/ExperimentRun/dcid.AutoML_6d8521ce-219d-40b5-a0b8-88593c3c2c65_38/outputs/scoring_file_v_2_0_0.py', 'scoring_data_location_pbi': 'aml://artifact/ExperimentRun/dcid.AutoML_6d8521ce-219d-40b5-a0b8-88593c3c2c65_38/outputs/scoring_file_pbi_v_1_0_0.py', 'model_exp_support': 'True', 'pipeline_graph_version': '1.0.0', 'model_name': 'AutoML6d8521ce238', 'score': '0.866241610738255', 'score_table': 'NaN', 'run_properties': 'classification_labels=numpy.array([0, 1]', 'pipeline_script': '{\"pipeline_id\":\"__AutoML_Ensemble__\",\"objects\":[{\"module\":\"azureml.train.automl.ensemble\",\"class_name\":\"Ensemble\",\"spec_class\":\"sklearn\",\"param_args\":[],\"param_kwargs\":{\"automl_settings\":\"{\\'task_type\\':\\'classification\\',\\'primary_metric\\':\\'accuracy\\',\\'verbosity\\':20,\\'ensemble_iterations\\':15,\\'is_timeseries\\':False,\\'name\\':\\'AutoML_Heart-Failure-experiment\\',\\'compute_target\\':\\'aml-compute1\\',\\'subscription_id\\':\\'61c5c3f0-6dc7-4ed9-a7f3-c704b20e3b30\\',\\'region\\':\\'southcentralus\\',\\'spark_service\\':None}\",\"ensemble_run_id\":\"AutoML_6d8521ce-219d-40b5-a0b8-88593c3c2c65_38\",\"experiment_name\":\"AutoML_Heart-Failure-experiment\",\"workspace_name\":\"quick-starts-ws-243057\",\"subscription_id\":\"61c5c3f0-6dc7-4ed9-a7f3-c704b20e3b30\",\"resource_group_name\":\"aml-quickstarts-243057\"}}]}', 'training_type': 'MeanCrossValidation', 'fit_time': '13', 'goal': 'accuracy_max', 'primary_metric': 'accuracy', 'errors': '{}', 'onnx_model_resource': '{}', 'dependencies_versions': '{\"azureml-dataprep-native\": \"38.0.0\", \"azureml-dataprep\": \"4.11.4\", \"azureml-dataprep-rslex\": \"2.18.4\", \"azureml-automl-runtime\": \"1.52.0.post1\", \"azureml-automl-core\": \"1.52.0.post1\", \"azureml-mlflow\": \"1.52.0\", \"azureml-telemetry\": \"1.52.0\", \"azureml-core\": \"1.52.0\", \"azureml-train-core\": \"1.52.0\", \"azureml-train-automl-runtime\": \"1.52.0\", \"azureml-interpret\": \"1.52.0\", \"azureml-defaults\": \"1.52.0\", \"azureml-dataset-runtime\": \"1.52.0\", \"azureml-responsibleai\": \"1.52.0\", \"azureml-train-restclients-hyperdrive\": \"1.52.0\", \"azureml-train-automl-client\": \"1.52.0\", \"azureml-pipeline-core\": \"1.52.0\", \"azureml-training-tabular\": \"1.52.0\", \"azureml-inference-server-http\": \"0.8.4\"}', 'num_cores': '4', 'num_logical_cores': '4', 'peak_memory_usage': '966612', 'vm_configuration': 'x86_64', 'core_hours': '0.004455565', 'feature_skus': 'automatedml_sdk_guardrails'}\n"
          ]
        }
      ],
      "source": [
        "print(best_run.properties)\n"
      ]
    },
    {
      "cell_type": "markdown",
      "metadata": {
        "id": "L0ANjgmbxETY"
      },
      "source": [
        "## Model Deployment\n",
        "\n",
        "Remember you have to deploy only one of the two models you trained.. Perform the steps in the rest of this notebook only if you wish to deploy this model.\n",
        "\n",
        "TODO: In the cell below, register the model, create an inference config and deploy the model as a web service."
      ]
    },
    {
      "cell_type": "code",
      "execution_count": 44,
      "metadata": {
        "gather": {
          "logged": 1697880066319
        },
        "jupyter": {
          "outputs_hidden": false,
          "source_hidden": false
        },
        "nteract": {
          "transient": {
            "deleting": false
          }
        }
      },
      "outputs": [],
      "source": [
        "model_name = best_run.properties[\"model_name\"]\n",
        "script_file_name = \"inference/score.py\"\n",
        "best_run.download_file(\"outputs/scoring_file_v_1_0_0.py\", \"inference/score.py\")\n",
        "\n",
        "description = \"Best Model\"\n",
        "tags = None\n",
        "model = automl_run.register_model(\n",
        "    model_name=model_name,\n",
        "    description=description,\n",
        "    tags=tags\n",
        ")\n"
      ]
    },
    {
      "cell_type": "code",
      "execution_count": 55,
      "metadata": {
        "gather": {
          "logged": 1697882072690
        },
        "id": "uV3bqbB-xETZ",
        "jupyter": {
          "outputs_hidden": false,
          "source_hidden": false
        },
        "nteract": {
          "transient": {
            "deleting": false
          }
        }
      },
      "outputs": [
        {
          "name": "stdout",
          "output_type": "stream",
          "text": [
            "automl6d8521ce238\n",
            "Tips: You can try get_logs(): https://aka.ms/debugimage#dockerlog or local deployment: https://aka.ms/debugimage#debug-locally to debug if deployment takes longer than 10 minutes.\n",
            "Running\n",
            "2023-10-21 09:51:45+00:00 Creating Container Registry if not exists.\n",
            "2023-10-21 09:51:46+00:00 Use the existing image.\n",
            "2023-10-21 09:51:47+00:00 Submitting deployment to compute.\n",
            "2023-10-21 09:51:52+00:00 Checking the status of deployment automl6d8521ce238..\n",
            "2023-10-21 09:53:45+00:00 Checking the status of inference endpoint automl6d8521ce238.\n",
            "Succeeded\n",
            "ACI service creation operation finished, operation \"Succeeded\"\n",
            "Healthy\n"
          ]
        }
      ],
      "source": [
        "# Define your inference configuration (entry script, dependencies, etc.)\n",
        "inference_config = InferenceConfig(entry_script=script_file_name)\n",
        "\n",
        "# Configure the ACI deployment\n",
        "aciconfig = AciWebservice.deploy_configuration(\n",
        "    cpu_cores=2,\n",
        "    memory_gb=2,\n",
        "    description=\"Endpoint for Heart Failure from AutoML Classification\",\n",
        "    enable_app_insights=True,  # Enable Application Insights\n",
        "    auth_enabled=True,  # Enable token-based authentication\n",
        ")\n",
        "\n",
        "# Deploy the model to ACI\n",
        "aci_service_name = model_name.lower()\n",
        "print(aci_service_name)\n",
        "\n",
        "# Deploy the service\n",
        "aci_service = Model.deploy(ws, aci_service_name, [\n",
        "                           model], inference_config, aciconfig)\n",
        "\n",
        "# Wait for the deployment to complete\n",
        "aci_service.wait_for_deployment(True)\n",
        "print(aci_service.state)\n"
      ]
    },
    {
      "cell_type": "markdown",
      "metadata": {
        "collapsed": true,
        "gather": {
          "logged": 1598431657736
        },
        "id": "eprQFJpwxETZ",
        "jupyter": {
          "outputs_hidden": false,
          "source_hidden": false
        },
        "nteract": {
          "transient": {
            "deleting": false
          }
        }
      },
      "source": [
        "TODO: In the cell below, send a request to the web service you deployed to test it."
      ]
    },
    {
      "cell_type": "code",
      "execution_count": 56,
      "metadata": {
        "gather": {
          "logged": 1598432707604
        },
        "id": "ynZDY_6LxETZ",
        "jupyter": {
          "outputs_hidden": false,
          "source_hidden": false
        },
        "nteract": {
          "transient": {
            "deleting": false
          }
        }
      },
      "outputs": [
        {
          "name": "stdout",
          "output_type": "stream",
          "text": [
            "{\"result\": [1, 1]}\n",
            "++++++++++++++++++++++++++++++\n",
            "Expected result: [true, true], where 'true' means '1' as result in the 'DEATH_EVENT' column\n"
          ]
        }
      ],
      "source": [
        "%run endpoint.py\n"
      ]
    },
    {
      "cell_type": "markdown",
      "metadata": {
        "collapsed": true,
        "gather": {
          "logged": 1598432765711
        },
        "id": "kiC71PF2xETZ",
        "jupyter": {
          "outputs_hidden": false,
          "source_hidden": false
        },
        "nteract": {
          "transient": {
            "deleting": false
          }
        }
      },
      "source": [
        "TODO: In the cell below, print the logs of the web service and delete the service"
      ]
    },
    {
      "cell_type": "code",
      "execution_count": 59,
      "metadata": {
        "gather": {
          "logged": 1697882565913
        },
        "id": "GDCTlEFGxETZ",
        "jupyter": {
          "outputs_hidden": false,
          "source_hidden": false
        },
        "nteract": {
          "transient": {
            "deleting": false
          }
        }
      },
      "outputs": [
        {
          "name": "stdout",
          "output_type": "stream",
          "text": [
            "2023-10-21T09:53:27,614224700+00:00 - rsyslog/run \n",
            "2023-10-21T09:53:27,627236900+00:00 - gunicorn/run \n",
            "2023-10-21T09:53:27,629731600+00:00 | gunicorn/run | \n",
            "2023-10-21T09:53:27,632046300+00:00 | gunicorn/run | ###############################################\n",
            "2023-10-21T09:53:27,637501400+00:00 | gunicorn/run | AzureML Container Runtime Information\n",
            "2023-10-21T09:53:27,639536400+00:00 | gunicorn/run | ###############################################\n",
            "2023-10-21T09:53:27,646177200+00:00 | gunicorn/run | \n",
            "2023-10-21T09:53:27,656760300+00:00 | gunicorn/run | \n",
            "2023-10-21T09:53:27,679027900+00:00 | gunicorn/run | AzureML image information: openmpi4.1.0-ubuntu20.04, Materializaton Build:20230628.v2\n",
            "2023-10-21T09:53:27,680350100+00:00 | gunicorn/run | \n",
            "2023-10-21T09:53:27,682017700+00:00 | gunicorn/run | \n",
            "2023-10-21T09:53:27,688708800+00:00 | gunicorn/run | PATH environment variable: /azureml-envs/azureml-automl/bin:/opt/miniconda/bin:/usr/local/sbin:/usr/local/bin:/usr/sbin:/usr/bin:/sbin:/bin\n",
            "2023-10-21T09:53:27,692149900+00:00 | gunicorn/run | PYTHONPATH environment variable: \n",
            "2023-10-21T09:53:27,694080700+00:00 | gunicorn/run | \n",
            "2023-10-21T09:53:27,711745700+00:00 - nginx/run \n",
            "2023-10-21T09:53:30,397334085+00:00 | gunicorn/run | CONDAPATH environment variable: /opt/miniconda\n",
            "\n",
            "# conda environments:\n",
            "#\n",
            "                         /azureml-envs/azureml-automl\n",
            "base                     /opt/miniconda\n",
            "\n",
            "2023-10-21T09:53:31,498451605+00:00 | gunicorn/run | \n",
            "2023-10-21T09:53:31,501004189+00:00 | gunicorn/run | Pip Dependencies (before dynamic installation)\n",
            "\n",
            "adal==1.2.7\n",
            "applicationinsights==0.11.10\n",
            "arch==5.3.1\n",
            "argcomplete==2.1.2\n",
            "argon2-cffi==21.3.0\n",
            "argon2-cffi-bindings==21.2.0\n",
            "asttokens==2.2.1\n",
            "attrs==23.1.0\n",
            "azure-common==1.1.28\n",
            "azure-core==1.27.1\n",
            "azure-graphrbac==0.61.1\n",
            "azure-identity==1.13.0\n",
            "azure-mgmt-authorization==3.0.0\n",
            "azure-mgmt-containerregistry==10.1.0\n",
            "azure-mgmt-core==1.4.0\n",
            "azure-mgmt-keyvault==10.2.2\n",
            "azure-mgmt-resource==22.0.0\n",
            "azure-mgmt-storage==21.0.0\n",
            "azure-storage-blob==12.13.0\n",
            "azure-storage-queue==12.6.0\n",
            "azureml-automl-core==1.52.0.post1\n",
            "azureml-automl-runtime==1.52.0.post1\n",
            "azureml-core==1.52.0\n",
            "azureml-dataprep==4.11.4\n",
            "azureml-dataprep-native==38.0.0\n",
            "azureml-dataprep-rslex==2.18.4\n",
            "azureml-dataset-runtime==1.52.0\n",
            "azureml-defaults==1.52.0\n",
            "azureml-inference-server-http==0.8.4\n",
            "azureml-interpret==1.52.0\n",
            "azureml-mlflow==1.52.0\n",
            "azureml-pipeline-core==1.52.0\n",
            "azureml-responsibleai==1.52.0\n",
            "azureml-telemetry==1.52.0\n",
            "azureml-train-automl-client==1.52.0\n",
            "azureml-train-automl-runtime==1.52.0\n",
            "azureml-train-core==1.52.0\n",
            "azureml-train-restclients-hyperdrive==1.52.0\n",
            "azureml-training-tabular==1.52.0\n",
            "backcall==0.2.0\n",
            "backports.tempfile==1.0\n",
            "backports.weakref==1.0.post1\n",
            "bcrypt==4.0.1\n",
            "beautifulsoup4==4.12.2\n",
            "bleach==6.0.0\n",
            "bokeh==2.4.3\n",
            "boto==2.49.0\n",
            "boto3==1.20.19\n",
            "botocore==1.23.19\n",
            "Brotli @ file:///home/conda/feedstock_root/build_artifacts/brotli-split_1687884021435/work\n",
            "cachetools==5.3.1\n",
            "certifi==2023.5.7\n",
            "cffi @ file:///home/conda/feedstock_root/build_artifacts/cffi_1671179356964/work\n",
            "charset-normalizer @ file:///home/conda/feedstock_root/build_artifacts/charset-normalizer_1678108872112/work\n",
            "click==8.1.4\n",
            "cloudpickle @ file:///home/conda/feedstock_root/build_artifacts/cloudpickle_1598400192773/work\n",
            "cmdstanpy==0.9.5\n",
            "contextlib2==21.6.0\n",
            "contourpy==1.1.0\n",
            "convertdate @ file:///home/conda/feedstock_root/build_artifacts/convertdate_1642883757836/work\n",
            "cryptography==41.0.0\n",
            "cycler==0.11.0\n",
            "Cython==0.29.17\n",
            "dask==2023.2.0\n",
            "databricks-cli==0.17.7\n",
            "dataclasses==0.6\n",
            "debugpy==1.6.7\n",
            "decorator==5.1.1\n",
            "defusedxml==0.7.1\n",
            "dice-ml==0.9\n",
            "dill==0.3.6\n",
            "distributed==2023.2.0\n",
            "distro==1.8.0\n",
            "docker==6.1.3\n",
            "dotnetcore2==3.1.23\n",
            "econml==0.14.1\n",
            "entrypoints==0.4\n",
            "ephem==4.1.4\n",
            "erroranalysis==0.4.4\n",
            "executing==1.2.0\n",
            "fairlearn==0.8.0\n",
            "fastjsonschema==2.17.1\n",
            "fbprophet==0.7.1\n",
            "fire==0.5.0\n",
            "Flask==2.2.5\n",
            "Flask-Cors==3.0.10\n",
            "flatbuffers==23.5.26\n",
            "fonttools==4.40.0\n",
            "fsspec==2023.6.0\n",
            "fusepy==3.0.1\n",
            "gensim==3.8.3\n",
            "gitdb==4.0.10\n",
            "GitPython==3.1.31\n",
            "google-api-core==2.11.1\n",
            "google-auth==2.21.0\n",
            "googleapis-common-protos==1.59.1\n",
            "gunicorn==20.1.0\n",
            "h5py==3.9.0\n",
            "holidays @ file:///home/conda/feedstock_root/build_artifacts/holidays_1595448845196/work\n",
            "humanfriendly==10.0\n",
            "idna @ file:///home/conda/feedstock_root/build_artifacts/idna_1663625384323/work\n",
            "importlib-metadata==6.8.0\n",
            "importlib-resources==5.13.0\n",
            "inference-schema==1.5.1\n",
            "interpret-community==0.29.0\n",
            "interpret-core==0.3.2\n",
            "ipykernel==6.8.0\n",
            "ipython==8.12.2\n",
            "ipython-genutils==0.2.0\n",
            "isodate==0.6.1\n",
            "itsdangerous==2.1.2\n",
            "jedi==0.18.2\n",
            "jeepney==0.8.0\n",
            "Jinja2==3.1.2\n",
            "jmespath==0.10.0\n",
            "joblib @ file:///home/conda/feedstock_root/build_artifacts/joblib_1663332044897/work\n",
            "jsonpickle==3.0.1\n",
            "jsonschema==4.18.0\n",
            "jsonschema-specifications==2023.6.1\n",
            "jupyter_client==7.4.9\n",
            "jupyter_core==5.3.1\n",
            "jupyterlab-pygments==0.2.2\n",
            "keras2onnx==1.6.0\n",
            "kiwisolver==1.4.4\n",
            "knack==0.10.1\n",
            "korean-lunar-calendar @ file:///home/conda/feedstock_root/build_artifacts/korean_lunar_calendar_1663341251025/work\n",
            "lightgbm==3.2.1\n",
            "llvmlite==0.38.1\n",
            "locket==1.0.0\n",
            "LunarCalendar==0.0.9\n",
            "MarkupSafe==2.1.2\n",
            "matplotlib==3.7.2\n",
            "matplotlib-inline==0.1.6\n",
            "mistune==3.0.1\n",
            "ml-wrappers==0.4.11\n",
            "mlflow-skinny==2.4.1\n",
            "mltable==1.4.1\n",
            "msal==1.22.0\n",
            "msal-extensions==1.0.0\n",
            "msgpack==1.0.5\n",
            "msrest==0.7.1\n",
            "msrestazure==0.6.4\n",
            "nbclient==0.8.0\n",
            "nbconvert==7.6.0\n",
            "nbformat==5.9.0\n",
            "ndg-httpsclient==0.5.1\n",
            "nest-asyncio==1.5.6\n",
            "networkx==2.5\n",
            "notebook==6.4.9\n",
            "numba==0.55.2\n",
            "numpy==1.22.3\n",
            "oauthlib==3.2.2\n",
            "onnx==1.13.1\n",
            "onnxconverter-common==1.6.0\n",
            "onnxmltools==1.4.1\n",
            "onnxruntime==1.11.1\n",
            "opencensus==0.11.2\n",
            "opencensus-context==0.1.3\n",
            "opencensus-ext-azure==1.1.9\n",
            "packaging==23.0\n",
            "pandas==1.1.5\n",
            "pandocfilters==1.5.0\n",
            "paramiko==3.2.0\n",
            "parso==0.8.3\n",
            "partd==1.4.0\n",
            "pathspec==0.11.1\n",
            "patsy==0.5.3\n",
            "pexpect==4.8.0\n",
            "pickleshare==0.7.5\n",
            "Pillow==10.0.0\n",
            "pkginfo==1.9.6\n",
            "pkgutil_resolve_name==1.3.10\n",
            "platformdirs @ file:///home/conda/feedstock_root/build_artifacts/platformdirs_1688739404342/work\n",
            "pmdarima==1.8.0\n",
            "pooch @ file:///home/conda/feedstock_root/build_artifacts/pooch_1679580333621/work\n",
            "portalocker==2.7.0\n",
            "prometheus-client==0.17.0\n",
            "prompt-toolkit==3.0.39\n",
            "property-cached==1.6.4\n",
            "protobuf==3.20.3\n",
            "psutil @ file:///home/conda/feedstock_root/build_artifacts/psutil_1681775007745/work\n",
            "ptyprocess==0.7.0\n",
            "pure-eval==0.2.2\n",
            "py-cpuinfo==5.0.0\n",
            "pyarrow==9.0.0\n",
            "pyasn1==0.5.0\n",
            "pyasn1-modules==0.3.0\n",
            "pycparser @ file:///home/conda/feedstock_root/build_artifacts/pycparser_1636257122734/work\n",
            "pydantic==1.10.11\n",
            "Pygments==2.15.1\n",
            "PyJWT==2.7.0\n",
            "PyMeeus @ file:///home/conda/feedstock_root/build_artifacts/pymeeus_1670868433998/work\n",
            "PyNaCl==1.5.0\n",
            "pyOpenSSL @ file:///home/conda/feedstock_root/build_artifacts/pyopenssl_1685514481738/work\n",
            "pyparsing==3.0.9\n",
            "PySocks @ file:///home/conda/feedstock_root/build_artifacts/pysocks_1661604839144/work\n",
            "pystan==2.19.1.1\n",
            "python-dateutil @ file:///home/conda/feedstock_root/build_artifacts/python-dateutil_1626286286081/work\n",
            "pytz @ file:///home/conda/feedstock_root/build_artifacts/pytz_1680088766131/work\n",
            "PyYAML==6.0\n",
            "pyzmq==25.1.0\n",
            "raiutils==0.4.0\n",
            "referencing==0.29.1\n",
            "requests @ file:///home/conda/feedstock_root/build_artifacts/requests_1684774241324/work\n",
            "requests-oauthlib==1.3.1\n",
            "responsibleai==0.28.0\n",
            "rpds-py==0.8.8\n",
            "rsa==4.9\n",
            "s3transfer==0.5.2\n",
            "scikit-learn==0.22.1\n",
            "scipy==1.5.3\n",
            "SecretStorage==3.3.3\n",
            "semver==2.13.0\n",
            "Send2Trash==1.8.2\n",
            "setuptools-git==1.2\n",
            "shap==0.41.0\n",
            "six @ file:///home/conda/feedstock_root/build_artifacts/six_1620240208055/work\n",
            "skl2onnx==1.4.9\n",
            "sklearn-pandas==1.7.0\n",
            "slicer==0.0.7\n",
            "smart-open==1.9.0\n",
            "smmap==5.0.0\n",
            "sortedcontainers==2.4.0\n",
            "soupsieve==2.4.1\n",
            "sparse==0.14.0\n",
            "sqlparse==0.4.4\n",
            "stack-data==0.6.2\n",
            "statsmodels==0.11.1\n",
            "tabulate==0.9.0\n",
            "tblib==2.0.0\n",
            "termcolor==2.3.0\n",
            "terminado==0.17.1\n",
            "tinycss2==1.2.1\n",
            "toolz==0.12.0\n",
            "tornado==6.3.2\n",
            "tqdm==4.65.0\n",
            "traitlets==5.9.0\n",
            "typing_extensions @ file:///home/conda/feedstock_root/build_artifacts/typing_extensions_1688315532570/work\n",
            "urllib3==1.26.16\n",
            "wcwidth==0.2.6\n",
            "webencodings==0.5.1\n",
            "websocket-client==1.6.1\n",
            "Werkzeug==2.3.6\n",
            "wrapt==1.12.1\n",
            "xgboost==1.3.3\n",
            "zict==3.0.0\n",
            "zipp==3.15.0\n",
            "\n",
            "2023-10-21T09:53:36,228390256+00:00 | gunicorn/run | \n",
            "2023-10-21T09:53:36,231768934+00:00 | gunicorn/run | ###############################################\n",
            "2023-10-21T09:53:36,235202511+00:00 | gunicorn/run | Checking if the Python package azureml-inference-server-http is installed\n",
            "2023-10-21T09:53:36,240263978+00:00 | gunicorn/run | ###############################################\n",
            "2023-10-21T09:53:36,242470864+00:00 | gunicorn/run | \n",
            "2023-10-21T09:53:39,190781177+00:00 | gunicorn/run | \n",
            "2023-10-21T09:53:39,192997706+00:00 | gunicorn/run | ###############################################\n",
            "2023-10-21T09:53:39,194984432+00:00 | gunicorn/run | AzureML Inference Server\n",
            "2023-10-21T09:53:39,197000158+00:00 | gunicorn/run | ###############################################\n",
            "2023-10-21T09:53:39,204670757+00:00 | gunicorn/run | \n",
            "2023-10-21T09:53:42,067224916+00:00 | gunicorn/run | Starting AzureML Inference Server HTTP.\n",
            "2023-10-21 09:53:42,671 I [77] azmlinfsrv - Loaded logging config from /azureml-envs/azureml-automl/lib/python3.8/site-packages/azureml_inference_server_http/logging.json\n",
            "2023-10-21 09:53:43,116 I [77] gunicorn.error - Starting gunicorn 20.1.0\n",
            "2023-10-21 09:53:43,117 I [77] gunicorn.error - Listening at: http://0.0.0.0:31311 (77)\n",
            "2023-10-21 09:53:43,118 I [77] gunicorn.error - Using worker: sync\n",
            "2023-10-21 09:53:43,126 I [135] gunicorn.error - Booting worker with pid: 135\n",
            "Valid Application Insights instrumentation key provided.\n",
            "\n",
            "Azure ML Inferencing HTTP server v0.8.4\n",
            "\n",
            "\n",
            "Server Settings\n",
            "---------------\n",
            "Entry Script Name: /var/azureml-app/main.py\n",
            "Model Directory: /var/azureml-app/azureml-models/AutoML6d8521ce238/4\n",
            "Config File: None\n",
            "Worker Count: 1\n",
            "Worker Timeout (seconds): 300\n",
            "Server Port: 31311\n",
            "Health Port: 31311\n",
            "Application Insights Enabled: true\n",
            "Application Insights Key: AppInsights key provided\n",
            "Inferencing HTTP server version: azmlinfsrv/0.8.4\n",
            "CORS for the specified origins: None\n",
            "/azureml-envs/azureml-automl/lib/python3.8/site-packages/azureml_inference_server_http/server/config.py:51: FutureWarning: aliases are no longer used by BaseSettings to define which environment variables to read. Instead use the \"env\" field setting. See https://pydantic-docs.helpmanual.io/usage/settings/#environment-variable-names\n",
            "  class AMLInferenceServerConfig(pydantic.BaseSettings):\n",
            "Create dedicated endpoint for health: None\n",
            "\n",
            "\n",
            "Server Routes\n",
            "---------------\n",
            "Liveness Probe: GET   127.0.0.1:31311/\n",
            "Score:          POST  127.0.0.1:31311/score\n",
            "\n",
            "2023-10-21 09:53:45,596 I [135] azmlinfsrv - AML_FLASK_ONE_COMPATIBILITY is set. Patched Flask to ensure compatibility with Flask 1.\n",
            "Initializing logger\n",
            "2023-10-21 09:53:45,599 I [135] azmlinfsrv - Starting up app insights client\n",
            "WARNING:opencensus.ext.azure.common:DeprecationWarning: Explicitly using instrumentation key isdeprecated. Please use a connection string instead.\n",
            "WARNING:opencensus.ext.azure.common:DeprecationWarning: Explicitly using instrumentation key isdeprecated. Please use a connection string instead.\n",
            "WARNING:opencensus.ext.azure.common:DeprecationWarning: Explicitly using instrumentation key isdeprecated. Please use a connection string instead.\n",
            "2023-10-21 09:53:53,632 I [135] azmlinfsrv.user_script - Found driver script at /var/azureml-app/main.py and the score script at /var/azureml-app/score.py\n",
            "2023-10-21 09:53:53,633 I [135] azmlinfsrv.user_script - run() is decorated with @input_schema. Server will invoke it with the following arguments: data, method.\n",
            "2023-10-21 09:53:53,633 I [135] azmlinfsrv.user_script - Invoking user's init function\n",
            "ERROR:fbprophet.plot:Importing plotly failed. Interactive plots will not work.\n",
            "2023-10-21 09:54:24,050 I [135] azmlinfsrv.user_script - Users's init has completed successfully\n",
            "2023-10-21 09:54:24,057 I [135] azmlinfsrv.swagger - Swaggers are prepared for the following versions: [2, 3, 3.1].\n",
            "2023-10-21 09:54:24,058 I [135] azmlinfsrv - Scoring timeout is set to 60000\n",
            "2023-10-21 09:54:24,062 W [135] azmlinfsrv - x-ms-request-id header has been deprecated and will be removed from future versions of the server. Please use x-ms-client-request-id.\n",
            "2023-10-21 09:54:24,064 I [135] gunicorn.access - 127.0.0.1 - - [21/Oct/2023:09:54:24 +0000] \"GET / HTTP/1.0\" 200 7 \"-\" \"Go-http-client/1.1\"\n",
            "2023-10-21 09:54:24,065 W [135] azmlinfsrv - x-ms-request-id header has been deprecated and will be removed from future versions of the server. Please use x-ms-client-request-id.\n",
            "2023-10-21 09:54:24,068 I [135] gunicorn.access - 127.0.0.1 - - [21/Oct/2023:09:54:24 +0000] \"GET / HTTP/1.0\" 200 7 \"-\" \"Go-http-client/1.1\"\n",
            "2023-10-21 09:54:24,069 W [135] azmlinfsrv - x-ms-request-id header has been deprecated and will be removed from future versions of the server. Please use x-ms-client-request-id.\n",
            "2023-10-21 09:54:24,070 I [135] gunicorn.access - 127.0.0.1 - - [21/Oct/2023:09:54:24 +0000] \"GET / HTTP/1.0\" 200 7 \"-\" \"Go-http-client/1.1\"\n",
            "2023-10-21 09:54:24,072 W [135] azmlinfsrv - x-ms-request-id header has been deprecated and will be removed from future versions of the server. Please use x-ms-client-request-id.\n",
            "2023-10-21 09:54:24,073 I [135] gunicorn.access - 127.0.0.1 - - [21/Oct/2023:09:54:24 +0000] \"GET / HTTP/1.0\" 200 7 \"-\" \"Go-http-client/1.1\"\n",
            "2023-10-21 09:54:24,079 I [135] gunicorn.access - 127.0.0.1 - - [21/Oct/2023:09:54:24 +0000] \"GET / HTTP/1.0\" 200 7 \"-\" \"curl/7.58.0\"\n",
            "2023-10-21 09:54:24,081 I [135] gunicorn.access - 127.0.0.1 - - [21/Oct/2023:09:54:24 +0000] \"GET / HTTP/1.0\" 200 7 \"-\" \"curl/7.58.0\"\n",
            "2023-10-21 09:54:29,129 W [135] azmlinfsrv - x-ms-request-id header has been deprecated and will be removed from future versions of the server. Please use x-ms-client-request-id.\n",
            "2023-10-21 09:54:29,130 I [135] gunicorn.access - 127.0.0.1 - - [21/Oct/2023:09:54:29 +0000] \"GET / HTTP/1.0\" 200 7 \"-\" \"Go-http-client/1.1\"\n",
            "2023-10-21 09:54:29,135 W [135] azmlinfsrv - x-ms-request-id header has been deprecated and will be removed from future versions of the server. Please use x-ms-client-request-id.\n",
            "2023-10-21 09:54:29,136 I [135] azmlinfsrv - GET /swagger.json 200 0.568ms 3542\n",
            "2023-10-21 09:54:29,138 I [135] gunicorn.access - 127.0.0.1 - - [21/Oct/2023:09:54:29 +0000] \"GET /swagger.json HTTP/1.0\" 200 3542 \"-\" \"Go-http-client/1.1\"\n",
            "2023-10-21 09:54:33,428 W [135] azmlinfsrv - x-ms-request-id header has been deprecated and will be removed from future versions of the server. Please use x-ms-client-request-id.\n",
            "2023-10-21 09:54:33,429 I [135] gunicorn.access - 127.0.0.1 - - [21/Oct/2023:09:54:33 +0000] \"GET / HTTP/1.0\" 200 7 \"-\" \"Go-http-client/1.1\"\n",
            "2023-10-21 09:54:33,439 W [135] azmlinfsrv - x-ms-request-id header has been deprecated and will be removed from future versions of the server. Please use x-ms-client-request-id.\n",
            "2023-10-21 09:54:33,440 I [135] azmlinfsrv - GET /swagger.json 200 1.290ms 3542\n",
            "2023-10-21 09:54:33,445 I [135] gunicorn.access - 127.0.0.1 - - [21/Oct/2023:09:54:33 +0000] \"GET /swagger.json HTTP/1.0\" 200 3542 \"-\" \"Go-http-client/1.1\"\n",
            "2023-10-21 09:55:34,504 W [135] azmlinfsrv - x-ms-request-id header has been deprecated and will be removed from future versions of the server. Please use x-ms-client-request-id.\n",
            "2023-10-21 09:55:34,509 I [135] gunicorn.access - 127.0.0.1 - - [21/Oct/2023:09:55:34 +0000] \"GET / HTTP/1.0\" 200 7 \"-\" \"Go-http-client/1.1\"\n",
            "2023-10-21 09:55:34,515 W [135] azmlinfsrv - x-ms-request-id header has been deprecated and will be removed from future versions of the server. Please use x-ms-client-request-id.\n",
            "2023-10-21 09:55:34,516 I [135] azmlinfsrv - GET /swagger.json 200 1.134ms 3542\n",
            "2023-10-21 09:55:34,517 I [135] gunicorn.access - 127.0.0.1 - - [21/Oct/2023:09:55:34 +0000] \"GET /swagger.json HTTP/1.0\" 200 3542 \"-\" \"Go-http-client/1.1\"\n",
            "2023-10-21 09:55:38,929 W [135] azmlinfsrv - x-ms-request-id header has been deprecated and will be removed from future versions of the server. Please use x-ms-client-request-id.\n",
            "2023-10-21 09:55:38,930 I [135] azmlinfsrv - GET /swagger.json 200 0.920ms 3542\n",
            "2023-10-21 09:55:38,932 I [135] gunicorn.access - 127.0.0.1 - - [21/Oct/2023:09:55:38 +0000] \"GET /swagger.json HTTP/1.0\" 200 3542 \"-\" \"Go-http-client/1.1\"\n",
            "2023-10-21 09:55:59,834 W [135] azmlinfsrv - x-ms-request-id header has been deprecated and will be removed from future versions of the server. Please use x-ms-client-request-id.\n",
            "2023-10-21 09:55:59,836 I [135] gunicorn.access - 127.0.0.1 - - [21/Oct/2023:09:55:59 +0000] \"GET / HTTP/1.0\" 200 7 \"-\" \"Go-http-client/1.1\"\n",
            "2023-10-21 09:55:59,845 W [135] azmlinfsrv - x-ms-request-id header has been deprecated and will be removed from future versions of the server. Please use x-ms-client-request-id.\n",
            "2023-10-21 09:55:59,846 I [135] azmlinfsrv - GET /swagger.json 200 1.238ms 3542\n",
            "2023-10-21 09:55:59,850 I [135] gunicorn.access - 127.0.0.1 - - [21/Oct/2023:09:55:59 +0000] \"GET /swagger.json HTTP/1.0\" 200 3542 \"-\" \"Go-http-client/1.1\"\n",
            "2023-10-21 09:56:25,176 W [135] azmlinfsrv - x-ms-request-id header has been deprecated and will be removed from future versions of the server. Please use x-ms-client-request-id.\n",
            "2023-10-21 09:56:25,176 I [135] azmlinfsrv - GET /swagger.json 200 0.487ms 3542\n",
            "2023-10-21 09:56:25,177 I [135] gunicorn.access - 127.0.0.1 - - [21/Oct/2023:09:56:25 +0000] \"GET /swagger.json HTTP/1.0\" 200 3542 \"-\" \"Go-http-client/1.1\"\n",
            "2023-10-21 09:58:14,550 W [135] azmlinfsrv - x-ms-request-id header has been deprecated and will be removed from future versions of the server. Please use x-ms-client-request-id.\n",
            "2023-10-21 09:58:14,551 I [135] azmlinfsrv - GET /swagger.json 200 0.614ms 3542\n",
            "2023-10-21 09:58:14,552 I [135] gunicorn.access - 127.0.0.1 - - [21/Oct/2023:09:58:14 +0000] \"GET /swagger.json HTTP/1.0\" 200 3542 \"-\" \"Go-http-client/1.1\"\n",
            "2023-10-21 09:58:27,690 W [135] azmlinfsrv - x-ms-request-id header has been deprecated and will be removed from future versions of the server. Please use x-ms-client-request-id.\n",
            "2023-10-21 09:58:27,693 I [135] gunicorn.access - 127.0.0.1 - - [21/Oct/2023:09:58:27 +0000] \"GET / HTTP/1.0\" 200 7 \"-\" \"Go-http-client/1.1\"\n",
            "2023-10-21 09:58:27,699 W [135] azmlinfsrv - x-ms-request-id header has been deprecated and will be removed from future versions of the server. Please use x-ms-client-request-id.\n",
            "2023-10-21 09:58:27,700 I [135] azmlinfsrv - GET /swagger.json 200 0.962ms 3542\n",
            "2023-10-21 09:58:27,703 I [135] gunicorn.access - 127.0.0.1 - - [21/Oct/2023:09:58:27 +0000] \"GET /swagger.json HTTP/1.0\" 200 3542 \"-\" \"Go-http-client/1.1\"\n",
            "2023-10-21 09:58:28,420 W [135] azmlinfsrv - x-ms-request-id header has been deprecated and will be removed from future versions of the server. Please use x-ms-client-request-id.\n",
            "2023-10-21 09:58:28,421 I [135] azmlinfsrv - GET /swagger.json 200 1.277ms 3542\n",
            "2023-10-21 09:58:28,428 I [135] gunicorn.access - 127.0.0.1 - - [21/Oct/2023:09:58:28 +0000] \"GET /swagger.json HTTP/1.0\" 200 3542 \"-\" \"Go-http-client/1.1\"\n",
            "2023-10-21 09:58:32,717 W [135] azmlinfsrv - x-ms-request-id header has been deprecated and will be removed from future versions of the server. Please use x-ms-client-request-id.\n",
            "2023-10-21 09:58:32,862 I [135] azmlinfsrv - POST /score?verbose=true 200 144.748ms 19\n",
            "2023-10-21 09:58:32,873 I [135] gunicorn.access - 127.0.0.1 - - [21/Oct/2023:09:58:32 +0000] \"POST /score?verbose=true HTTP/1.0\" 200 19 \"-\" \"Go-http-client/1.1\"\n",
            "2023-10-21 09:58:51,145 W [135] azmlinfsrv - x-ms-request-id header has been deprecated and will be removed from future versions of the server. Please use x-ms-client-request-id.\n",
            "2023-10-21 09:58:51,300 I [135] azmlinfsrv - POST /score?verbose=true 200 155.532ms 19\n",
            "2023-10-21 09:58:51,302 I [135] gunicorn.access - 127.0.0.1 - - [21/Oct/2023:09:58:51 +0000] \"POST /score?verbose=true HTTP/1.0\" 200 19 \"-\" \"Go-http-client/1.1\"\n",
            "2023-10-21 09:59:12,338 W [135] azmlinfsrv - x-ms-request-id header has been deprecated and will be removed from future versions of the server. Please use x-ms-client-request-id.\n",
            "2023-10-21 09:59:12,477 I [135] azmlinfsrv - POST /score 200 139.763ms 22\n",
            "2023-10-21 09:59:12,479 I [135] gunicorn.access - 127.0.0.1 - - [21/Oct/2023:09:59:12 +0000] \"POST /score HTTP/1.0\" 200 22 \"-\" \"python-requests/2.31.0\"\n",
            "\n"
          ]
        }
      ],
      "source": [
        "logs = aci_service.get_logs()\n",
        "print(logs)\n"
      ]
    },
    {
      "cell_type": "code",
      "execution_count": 60,
      "metadata": {
        "gather": {
          "logged": 1697882579370
        },
        "id": "XnOWpnzao6O6"
      },
      "outputs": [],
      "source": [
        "aci_service.delete()\n"
      ]
    },
    {
      "cell_type": "markdown",
      "metadata": {},
      "source": [
        "**Submission Checklist**\n",
        "- I have registered the model.\n",
        "- I have deployed the model with the best accuracy as a webservice.\n",
        "- I have tested the webservice by sending a request to the model endpoint.\n",
        "- I have deleted the webservice and shutdown all the computes that I have used.\n",
        "- I have taken a screenshot showing the model endpoint as active.\n",
        "- The project includes a file containing the environment details."
      ]
    }
  ],
  "metadata": {
    "colab": {
      "collapsed_sections": [],
      "name": "automl.ipynb",
      "provenance": [],
      "toc_visible": true
    },
    "kernel_info": {
      "name": "python38-azureml"
    },
    "kernelspec": {
      "display_name": "Python 3.8 - AzureML",
      "language": "python",
      "name": "python38-azureml"
    },
    "language_info": {
      "codemirror_mode": {
        "name": "ipython",
        "version": 3
      },
      "file_extension": ".py",
      "mimetype": "text/x-python",
      "name": "python",
      "nbconvert_exporter": "python",
      "pygments_lexer": "ipython3",
      "version": "3.8.5"
    },
    "microsoft": {
      "host": {
        "AzureML": {
          "notebookHasBeenCompleted": true
        }
      },
      "ms_spell_check": {
        "ms_spell_check_language": "en"
      }
    },
    "nteract": {
      "version": "nteract-front-end@1.0.0"
    },
    "varInspector": {
      "cols": {
        "lenName": 16,
        "lenType": 16,
        "lenVar": 40
      },
      "kernels_config": {
        "python": {
          "delete_cmd_postfix": "",
          "delete_cmd_prefix": "del ",
          "library": "var_list.py",
          "varRefreshCmd": "print(var_dic_list())"
        },
        "r": {
          "delete_cmd_postfix": ") ",
          "delete_cmd_prefix": "rm(",
          "library": "var_list.r",
          "varRefreshCmd": "cat(var_dic_list()) "
        }
      },
      "types_to_exclude": [
        "module",
        "function",
        "builtin_function_or_method",
        "instance",
        "_Feature"
      ],
      "window_display": false
    }
  },
  "nbformat": 4,
  "nbformat_minor": 1
}
